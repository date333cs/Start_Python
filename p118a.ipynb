{
  "nbformat": 4,
  "nbformat_minor": 0,
  "metadata": {
    "colab": {
      "name": "p118a.ipynb",
      "version": "0.3.2",
      "provenance": [],
      "collapsed_sections": [],
      "include_colab_link": true
    },
    "kernelspec": {
      "name": "python3",
      "display_name": "Python 3"
    }
  },
  "cells": [
    {
      "cell_type": "markdown",
      "metadata": {
        "id": "view-in-github",
        "colab_type": "text"
      },
      "source": [
        "<a href=\"https://colab.research.google.com/github/date333cs/Start_Python/blob/master/p118a.ipynb\" target=\"_parent\"><img src=\"https://colab.research.google.com/assets/colab-badge.svg\" alt=\"Open In Colab\"/></a>"
      ]
    },
    {
      "metadata": {
        "id": "rjmBjKWG3-mC",
        "colab_type": "text"
      },
      "cell_type": "markdown",
      "source": [
        "### 試行錯誤あるのみ"
      ]
    },
    {
      "metadata": {
        "id": "boP7dpgh9Y2h",
        "colab_type": "text"
      },
      "cell_type": "markdown",
      "source": [
        "### 「これで動くはず」とおもったことを，ぜんぶ試すのが早い"
      ]
    },
    {
      "metadata": {
        "id": "fvV3_d8F4N_J",
        "colab_type": "code",
        "outputId": "59e00720-f77f-4a6a-8af2-e55d61a9a83d",
        "colab": {
          "base_uri": "https://localhost:8080/",
          "height": 34
        }
      },
      "cell_type": "code",
      "source": [
        "# -*- coding: utf-8 -*-\n",
        "import numpy as np\n",
        "\n",
        "x = np.zeros(5)\n",
        "x"
      ],
      "execution_count": 0,
      "outputs": [
        {
          "output_type": "execute_result",
          "data": {
            "text/plain": [
              "array([0., 0., 0., 0., 0.])"
            ]
          },
          "metadata": {
            "tags": []
          },
          "execution_count": 9
        }
      ]
    },
    {
      "metadata": {
        "id": "_USAVSpc4qJw",
        "colab_type": "code",
        "outputId": "da80584c-023f-4f15-b080-8f015870fe52",
        "colab": {
          "base_uri": "https://localhost:8080/",
          "height": 34
        }
      },
      "cell_type": "code",
      "source": [
        "u = np.random.rand(5)\n",
        "u"
      ],
      "execution_count": 0,
      "outputs": [
        {
          "output_type": "execute_result",
          "data": {
            "text/plain": [
              "array([0.00305083, 0.88691169, 0.19887383, 0.11021163, 0.81947164])"
            ]
          },
          "metadata": {
            "tags": []
          },
          "execution_count": 48
        }
      ]
    },
    {
      "metadata": {
        "id": "QvZN1_Ds4q2J",
        "colab_type": "code",
        "outputId": "54c35efd-51ab-4389-9b79-e1d217226107",
        "colab": {
          "base_uri": "https://localhost:8080/",
          "height": 34
        }
      },
      "cell_type": "code",
      "source": [
        "flag= (1/8<=u) &  (u<=1/4)\n",
        "flag"
      ],
      "execution_count": 0,
      "outputs": [
        {
          "output_type": "execute_result",
          "data": {
            "text/plain": [
              "array([False, False,  True, False, False])"
            ]
          },
          "metadata": {
            "tags": []
          },
          "execution_count": 49
        }
      ]
    },
    {
      "metadata": {
        "id": "GTn0IE328vN9",
        "colab_type": "code",
        "outputId": "d74584fa-0c12-4c9a-ef47-f39047685f44",
        "colab": {
          "base_uri": "https://localhost:8080/",
          "height": 34
        }
      },
      "cell_type": "code",
      "source": [
        "u*flag  # * は要素どうしの掛け算"
      ],
      "execution_count": 0,
      "outputs": [
        {
          "output_type": "execute_result",
          "data": {
            "text/plain": [
              "array([0.        , 0.        , 0.19887383, 0.        , 0.        ])"
            ]
          },
          "metadata": {
            "tags": []
          },
          "execution_count": 50
        }
      ]
    },
    {
      "metadata": {
        "id": "qpqdx7Vk6m2b",
        "colab_type": "code",
        "outputId": "99f35845-5260-4c7d-86af-59a1efaad869",
        "colab": {
          "base_uri": "https://localhost:8080/",
          "height": 136
        }
      },
      "cell_type": "code",
      "source": [
        "whos"
      ],
      "execution_count": 0,
      "outputs": [
        {
          "output_type": "stream",
          "text": [
            "Variable   Type       Data/Info\n",
            "-------------------------------\n",
            "flag       ndarray    5: 5 elems, type `bool`, 5 bytes\n",
            "n          int        5\n",
            "np         module     <module 'numpy' from '/us<...>kages/numpy/__init__.py'>\n",
            "u          ndarray    5: 5 elems, type `float64`, 40 bytes\n",
            "x          ndarray    5: 5 elems, type `float64`, 40 bytes\n"
          ],
          "name": "stdout"
        }
      ]
    },
    {
      "metadata": {
        "id": "O51Bi89h80FM",
        "colab_type": "text"
      },
      "cell_type": "markdown",
      "source": [
        ""
      ]
    },
    {
      "metadata": {
        "id": "22ocRdkw7PGE",
        "colab_type": "code",
        "outputId": "f43f3618-2cfa-4d6f-a817-7c71ed615993",
        "colab": {
          "base_uri": "https://localhost:8080/",
          "height": 34
        }
      },
      "cell_type": "code",
      "source": [
        "2-8*u"
      ],
      "execution_count": 0,
      "outputs": [
        {
          "output_type": "execute_result",
          "data": {
            "text/plain": [
              "array([ 1.97559335, -5.09529354,  0.40900939,  1.11830697, -4.5557731 ])"
            ]
          },
          "metadata": {
            "tags": []
          },
          "execution_count": 52
        }
      ]
    },
    {
      "metadata": {
        "id": "RMaRNtFA_-Z9",
        "colab_type": "code",
        "outputId": "2a817013-dd42-427e-dffb-a2f729b7f16e",
        "colab": {
          "base_uri": "https://localhost:8080/",
          "height": 34
        }
      },
      "cell_type": "code",
      "source": [
        "(2-8*u)*flag"
      ],
      "execution_count": 0,
      "outputs": [
        {
          "output_type": "execute_result",
          "data": {
            "text/plain": [
              "array([ 0.        , -0.        ,  0.40900939,  0.        , -0.        ])"
            ]
          },
          "metadata": {
            "tags": []
          },
          "execution_count": 56
        }
      ]
    },
    {
      "metadata": {
        "id": "XL2qcFZD7PVx",
        "colab_type": "code",
        "outputId": "fdd60e49-f9f8-40d9-a481-b6ead30768f5",
        "colab": {
          "base_uri": "https://localhost:8080/",
          "height": 34
        }
      },
      "cell_type": "code",
      "source": [
        "np.sqrt( (2-8*u)*flag )"
      ],
      "execution_count": 0,
      "outputs": [
        {
          "output_type": "execute_result",
          "data": {
            "text/plain": [
              "array([ 0.        , -0.        ,  0.63953842,  0.        , -0.        ])"
            ]
          },
          "metadata": {
            "tags": []
          },
          "execution_count": 57
        }
      ]
    },
    {
      "metadata": {
        "id": "df41ZhHD3u6X",
        "colab_type": "text"
      },
      "cell_type": "markdown",
      "source": [
        "### 混合正規分布からの乱数生成"
      ]
    },
    {
      "metadata": {
        "id": "mPuyg9Zz1ZXD",
        "colab_type": "code",
        "colab": {}
      },
      "cell_type": "code",
      "source": [
        "def myrand_gmm(n, fill=0.0): # n は生成するデータの個数\n",
        "  x=np.zeros(n)\n",
        "  g=np.random.randn(n)\n",
        "  u=np.random.rand(n)\n",
        "  mu = np.array([1.0, 2.0, 3.0])     # 各ガウス分布の平均値．値を変えていろいろ試す． これは混合数 m=3 nの場合\n",
        "  sigma = np.array([0.1, 0.3, 0.5]) # 各分布の標準偏差．値を変えていろいろ試す．\n",
        "  flag=(0<=u)  &  (u<1/3) # この例は，各分布から1/3の確率でデータが出現する場合．\n",
        "  x = (mu[0] + sigma[0]*g)*flag\n",
        "  flag=(1/3<=u)  &  (u<2/3)\n",
        "  x += (mu[1] + sigma[1]*g)*flag\n",
        "  flag=(2/3<=u)  &  (u<=1)\n",
        "  x += (mu[2] + sigma[2]*g)*flag\n",
        "  return x"
      ],
      "execution_count": 0,
      "outputs": []
    },
    {
      "metadata": {
        "id": "38YhTk8yKacJ",
        "colab_type": "text"
      },
      "cell_type": "markdown",
      "source": [
        "以下コードの説明"
      ]
    },
    {
      "metadata": {
        "id": "Ckh4GchkF6uH",
        "colab_type": "code",
        "outputId": "41a323df-aa5b-49e8-edde-4456819f6f76",
        "colab": {
          "base_uri": "https://localhost:8080/",
          "height": 34
        }
      },
      "cell_type": "code",
      "source": [
        "u=np.random.rand(5)\n",
        "u"
      ],
      "execution_count": 0,
      "outputs": [
        {
          "output_type": "execute_result",
          "data": {
            "text/plain": [
              "array([0.77296148, 0.68322057, 0.50499088, 0.17409535, 0.07073147])"
            ]
          },
          "metadata": {
            "tags": []
          },
          "execution_count": 112
        }
      ]
    },
    {
      "metadata": {
        "id": "Q4QHdxp7FRzq",
        "colab_type": "code",
        "outputId": "d28779dd-05e5-4b77-fb3a-0b75af5372e3",
        "colab": {
          "base_uri": "https://localhost:8080/",
          "height": 34
        }
      },
      "cell_type": "code",
      "source": [
        "flag=(0<=u)  &  (u<1/3)\n",
        "flag"
      ],
      "execution_count": 0,
      "outputs": [
        {
          "output_type": "execute_result",
          "data": {
            "text/plain": [
              "array([False, False, False,  True,  True])"
            ]
          },
          "metadata": {
            "tags": []
          },
          "execution_count": 113
        }
      ]
    },
    {
      "metadata": {
        "id": "hOetkWMVGSOk",
        "colab_type": "code",
        "outputId": "b420666d-2d3e-48bf-cbf5-c849a4881a4b",
        "colab": {
          "base_uri": "https://localhost:8080/",
          "height": 34
        }
      },
      "cell_type": "code",
      "source": [
        "  g=np.random.randn(5)\n",
        "  g"
      ],
      "execution_count": 0,
      "outputs": [
        {
          "output_type": "execute_result",
          "data": {
            "text/plain": [
              "array([ 0.35586067, -0.54976638, -0.05226087,  0.13768692,  1.06583133])"
            ]
          },
          "metadata": {
            "tags": []
          },
          "execution_count": 114
        }
      ]
    },
    {
      "metadata": {
        "id": "TA-ErS5JFd6a",
        "colab_type": "code",
        "colab": {}
      },
      "cell_type": "code",
      "source": [
        "mu = np.array([1.0, 2.0, 3.0]) \n",
        "sigma = np.array([0.1, 0.3, 0.5]) "
      ],
      "execution_count": 0,
      "outputs": []
    },
    {
      "metadata": {
        "id": "k8H2wVsCFd-K",
        "colab_type": "code",
        "outputId": "adf3ec34-0c4b-4288-d28b-67d3c3adf2e5",
        "colab": {
          "base_uri": "https://localhost:8080/",
          "height": 34
        }
      },
      "cell_type": "code",
      "source": [
        "mu[1]"
      ],
      "execution_count": 0,
      "outputs": [
        {
          "output_type": "execute_result",
          "data": {
            "text/plain": [
              "2.0"
            ]
          },
          "metadata": {
            "tags": []
          },
          "execution_count": 116
        }
      ]
    },
    {
      "metadata": {
        "id": "_S-D1Lt_FeCP",
        "colab_type": "code",
        "outputId": "0b68972a-fa78-4e50-d276-dbafa78beff5",
        "colab": {
          "base_uri": "https://localhost:8080/",
          "height": 34
        }
      },
      "cell_type": "code",
      "source": [
        "x = (mu[0] + sigma[0]*g)*flag\n",
        "x\n"
      ],
      "execution_count": 0,
      "outputs": [
        {
          "output_type": "execute_result",
          "data": {
            "text/plain": [
              "array([0.        , 0.        , 0.        , 1.01376869, 1.10658313])"
            ]
          },
          "metadata": {
            "tags": []
          },
          "execution_count": 117
        }
      ]
    },
    {
      "metadata": {
        "id": "G8KiSmsnHIKd",
        "colab_type": "code",
        "outputId": "14952a08-4cba-4d08-d86e-6aa34f8d1f0d",
        "colab": {
          "base_uri": "https://localhost:8080/",
          "height": 34
        }
      },
      "cell_type": "code",
      "source": [
        "flag=(1/3<=u)  &  (u<2/3)\n",
        "flag"
      ],
      "execution_count": 0,
      "outputs": [
        {
          "output_type": "execute_result",
          "data": {
            "text/plain": [
              "array([False, False,  True, False, False])"
            ]
          },
          "metadata": {
            "tags": []
          },
          "execution_count": 118
        }
      ]
    },
    {
      "metadata": {
        "id": "cUwNwgbjG8mA",
        "colab_type": "code",
        "outputId": "06947ff5-2679-4ae1-97f4-2832725d5154",
        "colab": {
          "base_uri": "https://localhost:8080/",
          "height": 34
        }
      },
      "cell_type": "code",
      "source": [
        "x += (mu[1] + sigma[1]*g)*flag\n",
        "x"
      ],
      "execution_count": 0,
      "outputs": [
        {
          "output_type": "execute_result",
          "data": {
            "text/plain": [
              "array([0.        , 0.        , 1.98432174, 1.01376869, 1.10658313])"
            ]
          },
          "metadata": {
            "tags": []
          },
          "execution_count": 119
        }
      ]
    },
    {
      "metadata": {
        "id": "hYtB6RwuG8wV",
        "colab_type": "code",
        "outputId": "73c72d96-aaf6-468c-bb08-e3f27cf615d4",
        "colab": {
          "base_uri": "https://localhost:8080/",
          "height": 34
        }
      },
      "cell_type": "code",
      "source": [
        "flag=(2/3<=u)  &  (u<=1)\n",
        "flag"
      ],
      "execution_count": 0,
      "outputs": [
        {
          "output_type": "execute_result",
          "data": {
            "text/plain": [
              "array([ True,  True, False, False, False])"
            ]
          },
          "metadata": {
            "tags": []
          },
          "execution_count": 120
        }
      ]
    },
    {
      "metadata": {
        "id": "97QmUmlSG85U",
        "colab_type": "code",
        "outputId": "b15c6b24-52a7-45ac-b6fe-1108fddb16a4",
        "colab": {
          "base_uri": "https://localhost:8080/",
          "height": 34
        }
      },
      "cell_type": "code",
      "source": [
        "x += (mu[2] + sigma[2]*g)*flag\n",
        "x"
      ],
      "execution_count": 0,
      "outputs": [
        {
          "output_type": "execute_result",
          "data": {
            "text/plain": [
              "array([3.17793033, 2.72511681, 1.98432174, 1.01376869, 1.10658313])"
            ]
          },
          "metadata": {
            "tags": []
          },
          "execution_count": 121
        }
      ]
    },
    {
      "metadata": {
        "id": "QOp0EiPhD6sk",
        "colab_type": "code",
        "outputId": "7313f8c0-cb30-450b-f396-c1d9c423ebf2",
        "colab": {
          "base_uri": "https://localhost:8080/",
          "height": 85
        }
      },
      "cell_type": "code",
      "source": [
        "x= myrand_gmm(20)\n",
        "x"
      ],
      "execution_count": 0,
      "outputs": [
        {
          "output_type": "execute_result",
          "data": {
            "text/plain": [
              "array([2.8348488 , 1.6342894 , 3.88291374, 1.67344984, 1.74972856,\n",
              "       1.85732026, 2.15444869, 2.58322321, 3.38501538, 1.98928715,\n",
              "       0.97248683, 2.2541439 , 2.10060176, 1.05656965, 1.08835228,\n",
              "       2.83436529, 1.03206316, 1.62633293, 2.52933659, 1.97229034])"
            ]
          },
          "metadata": {
            "tags": []
          },
          "execution_count": 130
        }
      ]
    },
    {
      "metadata": {
        "id": "MsvxgoVWKfCi",
        "colab_type": "text"
      },
      "cell_type": "markdown",
      "source": [
        "本体"
      ]
    },
    {
      "metadata": {
        "id": "u_uUnDWiLw4I",
        "colab_type": "code",
        "outputId": "7169021b-a961-48da-9944-cb01bb3f35c6",
        "colab": {
          "base_uri": "https://localhost:8080/",
          "height": 85
        }
      },
      "cell_type": "code",
      "source": [
        "m=3\n",
        "mu = np.linspace( min(x), max(x), m)\n",
        "x"
      ],
      "execution_count": 0,
      "outputs": [
        {
          "output_type": "execute_result",
          "data": {
            "text/plain": [
              "array([2.8348488 , 1.6342894 , 3.88291374, 1.67344984, 1.74972856,\n",
              "       1.85732026, 2.15444869, 2.58322321, 3.38501538, 1.98928715,\n",
              "       0.97248683, 2.2541439 , 2.10060176, 1.05656965, 1.08835228,\n",
              "       2.83436529, 1.03206316, 1.62633293, 2.52933659, 1.97229034])"
            ]
          },
          "metadata": {
            "tags": []
          },
          "execution_count": 142
        }
      ]
    },
    {
      "metadata": {
        "id": "497M60Z9M-Wq",
        "colab_type": "code",
        "outputId": "f9121be9-52ee-44a2-8bce-4202e2fef424",
        "colab": {
          "base_uri": "https://localhost:8080/",
          "height": 34
        }
      },
      "cell_type": "code",
      "source": [
        "min(x)"
      ],
      "execution_count": 0,
      "outputs": [
        {
          "output_type": "execute_result",
          "data": {
            "text/plain": [
              "0.9724868348733147"
            ]
          },
          "metadata": {
            "tags": []
          },
          "execution_count": 143
        }
      ]
    },
    {
      "metadata": {
        "id": "FnO_npYdNBtQ",
        "colab_type": "code",
        "outputId": "4d929395-d590-48bb-84dc-6d9e837b335e",
        "colab": {
          "base_uri": "https://localhost:8080/",
          "height": 34
        }
      },
      "cell_type": "code",
      "source": [
        "max(x)"
      ],
      "execution_count": 0,
      "outputs": [
        {
          "output_type": "execute_result",
          "data": {
            "text/plain": [
              "3.882913742097367"
            ]
          },
          "metadata": {
            "tags": []
          },
          "execution_count": 145
        }
      ]
    },
    {
      "metadata": {
        "id": "9Uo-9mozNHOw",
        "colab_type": "code",
        "outputId": "5c196381-49e3-40e7-afc2-3565c20fc468",
        "colab": {
          "base_uri": "https://localhost:8080/",
          "height": 34
        }
      },
      "cell_type": "code",
      "source": [
        "mu = np.linspace( min(x), max(x), m)\n",
        "mu"
      ],
      "execution_count": 0,
      "outputs": [
        {
          "output_type": "execute_result",
          "data": {
            "text/plain": [
              "array([0.97248683, 2.42770029, 3.88291374])"
            ]
          },
          "metadata": {
            "tags": []
          },
          "execution_count": 151
        }
      ]
    },
    {
      "metadata": {
        "id": "E8p3CPkqNt3Y",
        "colab_type": "code",
        "outputId": "5b0ae6b6-585a-4a7d-b018-be19a6ca13db",
        "colab": {
          "base_uri": "https://localhost:8080/",
          "height": 34
        }
      },
      "cell_type": "code",
      "source": [
        "sigma2 = np.ones(m)/10  \n",
        "sigma2"
      ],
      "execution_count": 0,
      "outputs": [
        {
          "output_type": "execute_result",
          "data": {
            "text/plain": [
              "array([0.1, 0.1, 0.1])"
            ]
          },
          "metadata": {
            "tags": []
          },
          "execution_count": 150
        }
      ]
    },
    {
      "metadata": {
        "id": "KE7NETgXS4Jl",
        "colab_type": "code",
        "outputId": "f72d300b-5272-4699-e1f5-a1f3dff85f8d",
        "colab": {
          "base_uri": "https://localhost:8080/",
          "height": 51
        }
      },
      "cell_type": "code",
      "source": [
        "x"
      ],
      "execution_count": 0,
      "outputs": [
        {
          "output_type": "execute_result",
          "data": {
            "text/plain": [
              "array([1.03105536, 2.32680663, 1.07090861, ..., 1.56269246, 0.94092852,\n",
              "       1.8773869 ])"
            ]
          },
          "metadata": {
            "tags": []
          },
          "execution_count": 159
        }
      ]
    },
    {
      "metadata": {
        "id": "ZdlZWwvVS81N",
        "colab_type": "code",
        "outputId": "94c4d8a0-97fa-4fcf-d941-5749b7e4e831",
        "colab": {
          "base_uri": "https://localhost:8080/",
          "height": 34
        }
      },
      "cell_type": "code",
      "source": [
        "m"
      ],
      "execution_count": 0,
      "outputs": [
        {
          "output_type": "execute_result",
          "data": {
            "text/plain": [
              "3"
            ]
          },
          "metadata": {
            "tags": []
          },
          "execution_count": 160
        }
      ]
    },
    {
      "metadata": {
        "id": "IqoEn780S_my",
        "colab_type": "code",
        "outputId": "453d1e08-452d-418b-8a7f-3054a44a2f94",
        "colab": {
          "base_uri": "https://localhost:8080/",
          "height": 34
        }
      },
      "cell_type": "code",
      "source": [
        "n"
      ],
      "execution_count": 0,
      "outputs": [
        {
          "output_type": "execute_result",
          "data": {
            "text/plain": [
              "5000"
            ]
          },
          "metadata": {
            "tags": []
          },
          "execution_count": 161
        }
      ]
    },
    {
      "metadata": {
        "id": "buTP_uLNTJsQ",
        "colab_type": "code",
        "colab": {}
      },
      "cell_type": "code",
      "source": [
        "x=myrand_gmm(n) "
      ],
      "execution_count": 0,
      "outputs": []
    },
    {
      "metadata": {
        "id": "s0EDZG72TNff",
        "colab_type": "code",
        "outputId": "fed2cf2b-90e8-4830-e31e-10eda0dcbeb3",
        "colab": {
          "base_uri": "https://localhost:8080/",
          "height": 51
        }
      },
      "cell_type": "code",
      "source": [
        "x"
      ],
      "execution_count": 0,
      "outputs": [
        {
          "output_type": "execute_result",
          "data": {
            "text/plain": [
              "array([1.66730234, 1.04536571, 3.0774728 , ..., 3.06905969, 2.47094906,\n",
              "       3.65308587])"
            ]
          },
          "metadata": {
            "tags": []
          },
          "execution_count": 164
        }
      ]
    },
    {
      "metadata": {
        "id": "caCKY_icTZ2O",
        "colab_type": "code",
        "outputId": "93c7cf0c-ab19-474b-a593-00e292e79bc0",
        "colab": {
          "base_uri": "https://localhost:8080/",
          "height": 272
        }
      },
      "cell_type": "code",
      "source": [
        "whos"
      ],
      "execution_count": 0,
      "outputs": [
        {
          "output_type": "stream",
          "text": [
            "Variable     Type        Data/Info\n",
            "----------------------------------\n",
            "L            float       -inf\n",
            "flag         ndarray     5: 5 elems, type `bool`, 5 bytes\n",
            "g            ndarray     5: 5 elems, type `float64`, 40 bytes\n",
            "m            int         3\n",
            "mu           ndarray     3: 3 elems, type `float64`, 24 bytes\n",
            "myrand_gmm   function    <function myrand_gmm at 0x7fe33c3407b8>\n",
            "n            int         5000\n",
            "np           module      <module 'numpy' from '/us<...>kages/numpy/__init__.py'>\n",
            "sigma        ndarray     3: 3 elems, type `float64`, 24 bytes\n",
            "sigma2       ndarray     3: 3 elems, type `float64`, 24 bytes\n",
            "u            ndarray     5: 5 elems, type `float64`, 40 bytes\n",
            "w            ndarray     3: 3 elems, type `float64`, 24 bytes\n",
            "x            ndarray     5000: 5000 elems, type `float64`, 40000 bytes\n"
          ],
          "name": "stdout"
        }
      ]
    },
    {
      "metadata": {
        "id": "pwtfvESCTiDP",
        "colab_type": "code",
        "colab": {}
      },
      "cell_type": "code",
      "source": [
        "mu = mu.reshape(m, 1)"
      ],
      "execution_count": 0,
      "outputs": []
    },
    {
      "metadata": {
        "id": "NLVpap5OUUeq",
        "colab_type": "code",
        "outputId": "8ff613e4-871f-4270-d335-b598df3384b9",
        "colab": {
          "base_uri": "https://localhost:8080/",
          "height": 68
        }
      },
      "cell_type": "code",
      "source": [
        "mu"
      ],
      "execution_count": 0,
      "outputs": [
        {
          "output_type": "execute_result",
          "data": {
            "text/plain": [
              "array([[0.67488887],\n",
              "       [2.65382187],\n",
              "       [4.63275488]])"
            ]
          },
          "metadata": {
            "tags": []
          },
          "execution_count": 184
        }
      ]
    },
    {
      "metadata": {
        "id": "ezAyI-jJTQMq",
        "colab_type": "code",
        "colab": {}
      },
      "cell_type": "code",
      "source": [
        "tmp1 = ( np.tile(x, (m,1)) - np.tile(mu, (1, n)) )* ( np.tile(x, (m,1)) - np.tile(mu, (1, n)) )"
      ],
      "execution_count": 0,
      "outputs": []
    },
    {
      "metadata": {
        "id": "4VfXQwzidD-z",
        "colab_type": "code",
        "colab": {}
      },
      "cell_type": "code",
      "source": [
        "sigma2 = sigma2.reshape(m,1)\n",
        "tmp2 = 2*np.tile( sigma2, (1, n) )"
      ],
      "execution_count": 0,
      "outputs": []
    },
    {
      "metadata": {
        "id": "0j5tIzhldEF3",
        "colab_type": "code",
        "colab": {}
      },
      "cell_type": "code",
      "source": [
        "tmp3 = np.tile(w, (1, n) )*np.exp(-tmp1/tmp2)/np.sqrt(np.pi*tmp2)"
      ],
      "execution_count": 0,
      "outputs": []
    },
    {
      "metadata": {
        "id": "hNGFMxVldEQk",
        "colab_type": "code",
        "outputId": "1f9be0aa-a112-45dc-fb48-0acb44bd3d97",
        "colab": {
          "base_uri": "https://localhost:8080/",
          "height": 34
        }
      },
      "cell_type": "code",
      "source": [
        "w.shape"
      ],
      "execution_count": 0,
      "outputs": [
        {
          "output_type": "execute_result",
          "data": {
            "text/plain": [
              "(3, 1)"
            ]
          },
          "metadata": {
            "tags": []
          },
          "execution_count": 211
        }
      ]
    },
    {
      "metadata": {
        "id": "ZxVEp8sEdEDx",
        "colab_type": "code",
        "outputId": "0510ab25-a1cd-4679-f855-e0ff25ab8cb5",
        "colab": {
          "base_uri": "https://localhost:8080/",
          "height": 34
        }
      },
      "cell_type": "code",
      "source": [
        "tmp1.shape"
      ],
      "execution_count": 0,
      "outputs": [
        {
          "output_type": "execute_result",
          "data": {
            "text/plain": [
              "(3, 5000)"
            ]
          },
          "metadata": {
            "tags": []
          },
          "execution_count": 212
        }
      ]
    },
    {
      "metadata": {
        "id": "Xsyq1BqydSjL",
        "colab_type": "code",
        "outputId": "a23ded93-7801-4015-c34d-5b50714e05d7",
        "colab": {
          "base_uri": "https://localhost:8080/",
          "height": 34
        }
      },
      "cell_type": "code",
      "source": [
        "tmp2.shape"
      ],
      "execution_count": 0,
      "outputs": [
        {
          "output_type": "execute_result",
          "data": {
            "text/plain": [
              "(3, 5000)"
            ]
          },
          "metadata": {
            "tags": []
          },
          "execution_count": 213
        }
      ]
    },
    {
      "metadata": {
        "id": "Xk5uh6PHd5da",
        "colab_type": "code",
        "outputId": "b7928d82-46fb-44ca-ec87-7a105daaeb2f",
        "colab": {
          "base_uri": "https://localhost:8080/",
          "height": 34
        }
      },
      "cell_type": "code",
      "source": [
        "tmp3.shape"
      ],
      "execution_count": 0,
      "outputs": [
        {
          "output_type": "execute_result",
          "data": {
            "text/plain": [
              "(3, 5000)"
            ]
          },
          "metadata": {
            "tags": []
          },
          "execution_count": 214
        }
      ]
    },
    {
      "metadata": {
        "id": "VWJOWnprd5ZO",
        "colab_type": "code",
        "colab": {}
      },
      "cell_type": "code",
      "source": [
        "eta = tmp3/np.tile(np.sum(tmp3, axis=0), (m, 1) ) "
      ],
      "execution_count": 0,
      "outputs": []
    },
    {
      "metadata": {
        "id": "oyhW9Kufd5Vt",
        "colab_type": "code",
        "outputId": "39cb9c0b-dd09-4c7f-f265-c61f50143605",
        "colab": {
          "base_uri": "https://localhost:8080/",
          "height": 34
        }
      },
      "cell_type": "code",
      "source": [
        "eta.shape"
      ],
      "execution_count": 0,
      "outputs": [
        {
          "output_type": "execute_result",
          "data": {
            "text/plain": [
              "(3, 5000)"
            ]
          },
          "metadata": {
            "tags": []
          },
          "execution_count": 216
        }
      ]
    },
    {
      "metadata": {
        "id": "4VlNWawReNtw",
        "colab_type": "code",
        "colab": {}
      },
      "cell_type": "code",
      "source": [
        "tmp4 = np.sum(eta, axis=1)"
      ],
      "execution_count": 0,
      "outputs": []
    },
    {
      "metadata": {
        "id": "2lAB0ma2eN3n",
        "colab_type": "code",
        "outputId": "c01a0eba-a834-48fc-be23-090b369e4a00",
        "colab": {
          "base_uri": "https://localhost:8080/",
          "height": 34
        }
      },
      "cell_type": "code",
      "source": [
        "tmp4.shape"
      ],
      "execution_count": 0,
      "outputs": [
        {
          "output_type": "execute_result",
          "data": {
            "text/plain": [
              "(3,)"
            ]
          },
          "metadata": {
            "tags": []
          },
          "execution_count": 218
        }
      ]
    },
    {
      "metadata": {
        "id": "ayti8TeJeN8j",
        "colab_type": "code",
        "colab": {}
      },
      "cell_type": "code",
      "source": [
        "w = tmp4/n"
      ],
      "execution_count": 0,
      "outputs": []
    },
    {
      "metadata": {
        "id": "l1T4Ae7qeN01",
        "colab_type": "code",
        "colab": {}
      },
      "cell_type": "code",
      "source": [
        "w= w.reshape(m,1)"
      ],
      "execution_count": 0,
      "outputs": []
    },
    {
      "metadata": {
        "id": "SXglwrXkeNyJ",
        "colab_type": "code",
        "outputId": "2f4ba7f3-128e-4fda-f271-6e1d7d9004bd",
        "colab": {
          "base_uri": "https://localhost:8080/",
          "height": 34
        }
      },
      "cell_type": "code",
      "source": [
        "w.shape"
      ],
      "execution_count": 0,
      "outputs": [
        {
          "output_type": "execute_result",
          "data": {
            "text/plain": [
              "(3, 1)"
            ]
          },
          "metadata": {
            "tags": []
          },
          "execution_count": 221
        }
      ]
    },
    {
      "metadata": {
        "id": "a7V3ZnfJeuYU",
        "colab_type": "code",
        "outputId": "48bd5ec2-4eca-4c33-d28e-2e5882592cee",
        "colab": {
          "base_uri": "https://localhost:8080/",
          "height": 34
        }
      },
      "cell_type": "code",
      "source": [
        "eta.dot(x)"
      ],
      "execution_count": 0,
      "outputs": [
        {
          "output_type": "execute_result",
          "data": {
            "text/plain": [
              "array([2252.46775073, 7536.25261926,  309.21048363])"
            ]
          },
          "metadata": {
            "tags": []
          },
          "execution_count": 224
        }
      ]
    },
    {
      "metadata": {
        "id": "RZn4JgyDd5Rp",
        "colab_type": "code",
        "colab": {}
      },
      "cell_type": "code",
      "source": [
        " mu = (eta.dot(x))/tmp4"
      ],
      "execution_count": 0,
      "outputs": []
    },
    {
      "metadata": {
        "id": "6OjzfrWNdSwv",
        "colab_type": "code",
        "outputId": "603d6b86-2cdf-4dd8-c135-abf4004ef075",
        "colab": {
          "base_uri": "https://localhost:8080/",
          "height": 68
        }
      },
      "cell_type": "code",
      "source": [
        "mu"
      ],
      "execution_count": 0,
      "outputs": [
        {
          "output_type": "execute_result",
          "data": {
            "text/plain": [
              "array([[0.99732396],\n",
              "       [2.01225114],\n",
              "       [3.04100653]])"
            ]
          },
          "metadata": {
            "tags": []
          },
          "execution_count": 240
        }
      ]
    },
    {
      "metadata": {
        "id": "8tQDAaek29Hv",
        "colab_type": "code",
        "outputId": "ee9a09b9-5ed5-4b66-df01-b9e0e6167867",
        "colab": {
          "base_uri": "https://localhost:8080/",
          "height": 34
        }
      },
      "cell_type": "code",
      "source": [
        "mu[1]"
      ],
      "execution_count": 0,
      "outputs": [
        {
          "output_type": "execute_result",
          "data": {
            "text/plain": [
              "array([2.01225114])"
            ]
          },
          "metadata": {
            "tags": []
          },
          "execution_count": 242
        }
      ]
    },
    {
      "metadata": {
        "id": "5qhzNQJ8lT0H",
        "colab_type": "text"
      },
      "cell_type": "markdown",
      "source": [
        "# もともとのデータが，3つの正規分布から生成されている場合"
      ]
    },
    {
      "metadata": {
        "id": "AyWEUHQ3N8ep",
        "colab_type": "code",
        "outputId": "df55afd7-093e-4f75-c15e-5e0a280bc50d",
        "colab": {
          "base_uri": "https://localhost:8080/",
          "height": 347
        }
      },
      "cell_type": "code",
      "source": [
        "# -*- coding: utf-8 -*-\n",
        "import numpy as np\n",
        "from scipy.stats import norm\n",
        "import matplotlib.pyplot as plt\n",
        "\n",
        "def myrand_gmm(n, fill=0.0): # n は生成するデータの個数\n",
        "  x=np.zeros(n)\n",
        "  g=np.random.randn(n)\n",
        "  u=np.random.rand(n)\n",
        "  mu = np.array([1.0, 2.0, 3.0])     # 各ガウス分布の平均値．値を変えていろいろ試す． これは混合数 m=3 nの場合\n",
        "  sigma = np.array([0.1, 0.3, 0.8]) # 各分布の標準偏差．値を変えていろいろ試す．\n",
        "  flag=(0<=u)  &  (u<1/3) # この例は，各分布から1/3の確率でデータが出現する場合．\n",
        "  x = (mu[0] + sigma[0]*g)*flag\n",
        "  flag=(1/3<=u)  &  (u<2/3)\n",
        "  x += (mu[1] + sigma[1]*g)*flag\n",
        "  flag=(2/3<=u)  &  (u<=1)\n",
        "  x += (mu[2] + sigma[2]*g)*flag\n",
        "  return x\n",
        "\n",
        "n = 500 # 標本数（サンプル数）．\n",
        "x = myrand_gmm(n) # 乱数の生成．実験に使うデータを生成する関数名に書き換える．\n",
        "m = 3  # 混合数．この値を変えて実験する．\n",
        " \n",
        "# 初期値の設定．w, mu, sigma2 は m 次元縦ベクトル．\n",
        "L = -np.inf\n",
        "w = np.ones(m)/m # m個の正規分布の重みの初期値\n",
        "w= w.reshape(m,1)\n",
        "mu = np.linspace( min(x), max(x), m)   # 平均値の初期値\n",
        "mu = mu.reshape(m,1) # m を明示的に縦ベクトルにする\n",
        "sigma2 = np.ones(m)/10  # 分散の初期値\n",
        "sigma2 = sigma2.reshape(m,1)\n",
        "\n",
        "while 1:\n",
        "  tmp1 = ( np.tile(x, (m,1)) - np.tile(mu, (1, n)) )* ( np.tile(x, (m,1)) - np.tile(mu, (1, n)) )\n",
        "  tmp2 = 2*np.tile( sigma2, (1, n) )\n",
        "  tmp3 = np.tile(w, (1, n) )*np.exp(-tmp1/tmp2)/np.sqrt(np.pi*tmp2)\n",
        "  eta = tmp3/np.tile(np.sum(tmp3, axis=0), (m, 1) )  # ここまでがηの計算\n",
        "  tmp4 = np.sum(eta, axis=1)\n",
        "  w = tmp4/n\n",
        "  w= w.reshape(m,1)\n",
        "  mu = (eta.dot(x))/tmp4\n",
        "  mu = mu.reshape(m,1)\n",
        "  \n",
        "\n",
        "  sigma2 = np.sum(tmp1*eta, axis=1)/tmp4\n",
        "  sigma2 = sigma2.reshape(m,1)\n",
        "  Lnew = np.sum(np.log(np.sum(tmp3,axis=0))) # 更新後の対数尤度 *** 教科書誤植あり\n",
        "  mu, sigma2, w\n",
        "  \n",
        "  if Lnew -L < 0.0001:\n",
        "    break\n",
        "  L = Lnew\n",
        "\n",
        "xx = np.arange(0,5,0.01) #0から5まで、0.01間隔．\n",
        "y0 = norm.pdf(xx,  mu[0], np.sqrt(sigma2[0] ) )\n",
        "y1 = norm.pdf(xx,  mu[1], np.sqrt(sigma2[1] ) )\n",
        "y2 = norm.pdf(xx,  mu[2], np.sqrt(sigma2[2] ) )\n",
        "y = w[0]*y0 + w[1]*y1 + w[2]* y2\n",
        "\n",
        "plt.plot(xx,y,color='r')\n",
        "plt.hist(x, bins='auto', normed=True)\n",
        "plt.show()\n"
      ],
      "execution_count": 0,
      "outputs": [
        {
          "output_type": "display_data",
          "data": {
            "image/png": "[encoded data removed]",
            "text/plain": [
              "<matplotlib.figure.Figure at 0x7fb7979ca550>"
            ]
          },
          "metadata": {
            "tags": []
          }
        }
      ]
    },
    {
      "metadata": {
        "id": "BnRuDO1bTPGI",
        "colab_type": "code",
        "outputId": "fac6bd7f-0ebd-40c4-af54-a0e96c13d764",
        "colab": {
          "base_uri": "https://localhost:8080/",
          "height": 687
        }
      },
      "cell_type": "code",
      "source": [
        "import numpy as np\n",
        "import matplotlib.pyplot as plt\n",
        "\n",
        "np.random.seed(20190104)\n",
        "x = np.random.randn(10000)\n",
        "\n",
        "plt.hist(x, bins='auto')"
      ],
      "execution_count": 0,
      "outputs": [
        {
          "output_type": "execute_result",
          "data": {
            "text/plain": [
              "(array([  5.,   1.,   3.,   1.,   7.,  11.,  14.,  12.,  22.,  28.,  48.,\n",
              "         63.,  74., 104., 118., 137., 165., 220., 248., 282., 327., 349.,\n",
              "        359., 407., 451., 497., 481., 481., 489., 469., 454., 438., 461.,\n",
              "        420., 353., 328., 298., 269., 212., 180., 164., 127.,  94.,  79.,\n",
              "         65.,  43.,  32.,  25.,  28.,  18.,  10.,   9.,   4.,   4.,   5.,\n",
              "          2.,   3.,   1.,   0.,   0.,   0.,   0.,   1.]),\n",
              " array([-3.49555568, -3.37165464, -3.24775359, -3.12385255, -2.9999515 ,\n",
              "        -2.87605045, -2.75214941, -2.62824836, -2.50434732, -2.38044627,\n",
              "        -2.25654523, -2.13264418, -2.00874314, -1.88484209, -1.76094105,\n",
              "        -1.63704   , -1.51313896, -1.38923791, -1.26533687, -1.14143582,\n",
              "        -1.01753478, -0.89363373, -0.76973269, -0.64583164, -0.5219306 ,\n",
              "        -0.39802955, -0.27412851, -0.15022746, -0.02632642,  0.09757463,\n",
              "         0.22147567,  0.34537672,  0.46927776,  0.59317881,  0.71707985,\n",
              "         0.8409809 ,  0.96488194,  1.08878299,  1.21268403,  1.33658508,\n",
              "         1.46048612,  1.58438717,  1.70828821,  1.83218926,  1.9560903 ,\n",
              "         2.07999135,  2.20389239,  2.32779344,  2.45169448,  2.57559553,\n",
              "         2.69949657,  2.82339762,  2.94729866,  3.07119971,  3.19510075,\n",
              "         3.3190018 ,  3.44290284,  3.56680389,  3.69070493,  3.81460598,\n",
              "         3.93850702,  4.06240807,  4.18630911,  4.31021016]),\n",
              " <a list of 63 Patch objects>)"
            ]
          },
          "metadata": {
            "tags": []
          },
          "execution_count": 235
        },
        {
          "output_type": "display_data",
          "data": {
            "image/png": "[encoded data removed]",
            "text/plain": [
              "<matplotlib.figure.Figure at 0x7fe33c2ed5c0>"
            ]
          },
          "metadata": {
            "tags": []
          }
        }
      ]
    },
    {
      "metadata": {
        "id": "x0YCu31QjjyC",
        "colab_type": "code",
        "outputId": "2769e8e8-fa5d-40e6-ba1b-2c5641ad16cc",
        "colab": {
          "base_uri": "https://localhost:8080/",
          "height": 347
        }
      },
      "cell_type": "code",
      "source": [
        "import numpy as np\n",
        "from scipy.stats import norm\n",
        "import matplotlib.pyplot as plt\n",
        "\n",
        "#0から100まで、0.01間隔で入ったリストXを作る！\n",
        "X = np.arange(-5,5,0.1)\n",
        "#確率密度関数にX,平均0、標準偏差1を代入\n",
        "Y = norm.pdf(X,0,1)\n",
        "\n",
        "#x,yを引数にして、関数の色をr(red)に指定！カラーコードでも大丈夫です！\n",
        "plt.plot(X,Y,color='r')\n",
        "plt.show()"
      ],
      "execution_count": 0,
      "outputs": [
        {
          "output_type": "display_data",
          "data": {
            "image/png": "[encoded data removed]",
            "text/plain": [
              "<matplotlib.figure.Figure at 0x7fe339a4fb38>"
            ]
          },
          "metadata": {
            "tags": []
          }
        }
      ]
    },
    {
      "metadata": {
        "id": "G2DRmsxbjj8z",
        "colab_type": "code",
        "outputId": "332cf8a5-ead9-4a94-fdb2-c72588391e8c",
        "colab": {
          "base_uri": "https://localhost:8080/",
          "height": 347
        }
      },
      "cell_type": "code",
      "source": [
        "import numpy as np\n",
        "import matplotlib.pyplot as plt\n",
        "from scipy.stats import norm\n",
        "\n",
        "np.random.seed(20190104)\n",
        "x = np.random.randn(10000)\n",
        "\n",
        "#0から100まで、0.01間隔で入ったリストXを作る！\n",
        "X = np.arange(-5,5,0.1)\n",
        "#確率密度関数にX,平均0、標準偏差1を代入\n",
        "Y = norm.pdf(X,0,1)\n",
        "\n",
        "#x,yを引数にして、関数の色をr(red)に指定！カラーコードでも大丈夫です！\n",
        "plt.plot(X,Y,color='r')\n",
        "plt.hist(x, bins='auto', normed=True)\n",
        "plt.show()"
      ],
      "execution_count": 0,
      "outputs": [
        {
          "output_type": "display_data",
          "data": {
            "image/png": "[encoded data removed]",
            "text/plain": [
              "<matplotlib.figure.Figure at 0x7fe3397bd198>"
            ]
          },
          "metadata": {
            "tags": []
          }
        }
      ]
    },
    {
      "metadata": {
        "id": "hHytsgJrXXsV",
        "colab_type": "text"
      },
      "cell_type": "markdown",
      "source": [
        "myrand という関数を使う （p.172 ！） myrand.py  慣れないと，何をしているか分かりにくい．"
      ]
    },
    {
      "metadata": {
        "id": "GtPMa5sZY47t",
        "colab_type": "code",
        "outputId": "2d4ef4b2-362a-48f5-dbc0-8e025e23071a",
        "colab": {
          "base_uri": "https://localhost:8080/",
          "height": 119
        }
      },
      "cell_type": "code",
      "source": [
        "import numpy as np\n",
        "\n",
        "n=5\n",
        "x=np.zeros(n)\n",
        "u=np.random.rand(n)\n",
        "print(u)\n",
        "flag=(0<=u)  &  (u<1/8)\n",
        "x = np.sqrt(8*u)*flag\n",
        "print(x)\n",
        "flag=(1/8<=u)  &  (u<1/4)\n",
        "x += ( 2-np.sqrt( (2-8*u)*flag )    )*flag \n",
        "print(x)\n",
        "flag=(1/4<=u)  &  (u<1/2)\n",
        "x += (1+4*u)*flag\n",
        "print(x)\n",
        "flag=(1/2<=u)  &  (u<3/4)\n",
        "x += (3+np.sqrt(   (4*u-2)*flag ) )*flag\n",
        "print(x)\n",
        "flag=(3/4<=u)  &  (u<=1)\n",
        "x += (5-np.sqrt(4-4*u) )*flag\n",
        "print(x)"
      ],
      "execution_count": 0,
      "outputs": [
        {
          "output_type": "stream",
          "text": [
            "[0.98503938 0.58868557 0.71140425 0.7374373  0.14107629]\n",
            "[0. 0. 0. 0. 0.]\n",
            "[0.         0.         0.         0.         1.06651744]\n",
            "[0.         0.         0.         0.         1.06651744]\n",
            "[0.         3.59560245 3.91957437 3.97455078 1.06651744]\n",
            "[4.75537278 3.59560245 3.91957437 3.97455078 1.06651744]\n"
          ],
          "name": "stdout"
        }
      ]
    },
    {
      "metadata": {
        "id": "3JhpnffTXXOB",
        "colab_type": "code",
        "outputId": "623bc5a8-9da9-45bb-9045-bc2fe8a8544c",
        "colab": {
          "base_uri": "https://localhost:8080/",
          "height": 1231
        }
      },
      "cell_type": "code",
      "source": [
        "import numpy as np\n",
        "import matplotlib.pyplot as plt\n",
        "\n",
        "def myrand(n, fill=0.0): # n は生成するデータの個数\n",
        "\n",
        "  x=np.zeros(n)\n",
        "  u=np.random.rand(n)\n",
        "  \n",
        "  flag=(0<=u)  &  (u<1/8)\n",
        "  x = np.sqrt(8*u)*flag\n",
        "  flag=(1/8<=u)  &  (u<1/4)\n",
        "  x += ( 2-np.sqrt( (2-8*u)*flag )    )*flag \n",
        "  flag=(1/4<=u)  &  (u<1/2)\n",
        "  x += (1+4*u)*flag\n",
        "  flag=(1/2<=u)  &  (u<3/4)\n",
        "  x += (3+np.sqrt(   (4*u-2)*flag ) )*flag\n",
        "  flag=(3/4<=u)  &  (u<=1)\n",
        "  x += (5-np.sqrt(4-4*u) )*flag\n",
        "\n",
        "  return x\n",
        "\n",
        "np.random.seed(20190105)\n",
        "x = myrand(1000000)\n",
        "\n",
        "plt.hist(x, bins='auto', normed=True)\n",
        "\n"
      ],
      "execution_count": 0,
      "outputs": [
        {
          "output_type": "execute_result",
          "data": {
            "text/plain": [
              "(array([0.00693565, 0.0166756 , 0.02734197, 0.03760773, 0.04847441,\n",
              "        0.05636152, 0.06752866, 0.07629211, 0.09056402, 0.09672347,\n",
              "        0.10779046, 0.11522688, 0.1279464 , 0.13458159, 0.14554842,\n",
              "        0.15411157, 0.16973555, 0.17521897, 0.18330638, 0.1974531 ,\n",
              "        0.20596617, 0.21743377, 0.22659784, 0.23708894, 0.24522643,\n",
              "        0.24685393, 0.23030353, 0.2262473 , 0.21074851, 0.20108367,\n",
              "        0.19422314, 0.18463342, 0.17311574, 0.16342587, 0.15040588,\n",
              "        0.14337008, 0.1340057 , 0.12256314, 0.11217219, 0.10571227,\n",
              "        0.09489567, 0.08467999, 0.07336261, 0.06237074, 0.05150406,\n",
              "        0.04687195, 0.03337623, 0.02428728, 0.01296991, 0.02388667,\n",
              "        0.25206193, 0.25106039, 0.24893212, 0.24808081, 0.24182121,\n",
              "        0.24933274, 0.24612782, 0.25116054, 0.25499142, 0.25298835,\n",
              "        0.25296331, 0.2502842 , 0.24915747, 0.25348912, 0.24778035,\n",
              "        0.25874719, 0.24818097, 0.24980847, 0.24763012, 0.24785547,\n",
              "        0.24878189, 0.25070985, 0.24965824, 0.24863166, 0.24164594,\n",
              "        0.0112673 , 0.03052185, 0.05187964, 0.07020777, 0.0912651 ,\n",
              "        0.11079508, 0.13107621, 0.14802723, 0.17078717, 0.18979134,\n",
              "        0.2092462 , 0.23243179, 0.24755501, 0.26645903, 0.29292465,\n",
              "        0.31062683, 0.33058246, 0.35191521, 0.37174565, 0.39210189,\n",
              "        0.41105599, 0.43226354, 0.44355588, 0.4701467 , 0.48722291,\n",
              "        0.49160463, 0.47122335, 0.44996572, 0.4266299 , 0.41213264,\n",
              "        0.38854644, 0.36824026, 0.35276651, 0.33401272, 0.30674587,\n",
              "        0.28566351, 0.27059037, 0.24612782, 0.2345851 , 0.21029782,\n",
              "        0.19209487, 0.16853371, 0.15255918, 0.13385547, 0.11122073,\n",
              "        0.09356863, 0.07221085, 0.05007687, 0.03214935, 0.01089172]),\n",
              " array([0.00616312, 0.04610172, 0.08604032, 0.12597892, 0.16591751,\n",
              "        0.20585611, 0.24579471, 0.28573331, 0.32567191, 0.36561051,\n",
              "        0.4055491 , 0.4454877 , 0.4854263 , 0.5253649 , 0.5653035 ,\n",
              "        0.6052421 , 0.64518069, 0.68511929, 0.72505789, 0.76499649,\n",
              "        0.80493509, 0.84487368, 0.88481228, 0.92475088, 0.96468948,\n",
              "        1.00462808, 1.04456668, 1.08450527, 1.12444387, 1.16438247,\n",
              "        1.20432107, 1.24425967, 1.28419827, 1.32413686, 1.36407546,\n",
              "        1.40401406, 1.44395266, 1.48389126, 1.52382986, 1.56376845,\n",
              "        1.60370705, 1.64364565, 1.68358425, 1.72352285, 1.76346144,\n",
              "        1.80340004, 1.84333864, 1.88327724, 1.92321584, 1.96315444,\n",
              "        2.00309303, 2.04303163, 2.08297023, 2.12290883, 2.16284743,\n",
              "        2.20278603, 2.24272462, 2.28266322, 2.32260182, 2.36254042,\n",
              "        2.40247902, 2.44241762, 2.48235621, 2.52229481, 2.56223341,\n",
              "        2.60217201, 2.64211061, 2.68204921, 2.7219878 , 2.7619264 ,\n",
              "        2.801865  , 2.8418036 , 2.8817422 , 2.92168079, 2.96161939,\n",
              "        3.00155799, 3.04149659, 3.08143519, 3.12137379, 3.16131238,\n",
              "        3.20125098, 3.24118958, 3.28112818, 3.32106678, 3.36100538,\n",
              "        3.40094397, 3.44088257, 3.48082117, 3.52075977, 3.56069837,\n",
              "        3.60063697, 3.64057556, 3.68051416, 3.72045276, 3.76039136,\n",
              "        3.80032996, 3.84026855, 3.88020715, 3.92014575, 3.96008435,\n",
              "        4.00002295, 4.03996155, 4.07990014, 4.11983874, 4.15977734,\n",
              "        4.19971594, 4.23965454, 4.27959314, 4.31953173, 4.35947033,\n",
              "        4.39940893, 4.43934753, 4.47928613, 4.51922473, 4.55916332,\n",
              "        4.59910192, 4.63904052, 4.67897912, 4.71891772, 4.75885631,\n",
              "        4.79879491, 4.83873351, 4.87867211, 4.91861071, 4.95854931,\n",
              "        4.9984879 ]),\n",
              " <a list of 125 Patch objects>)"
            ]
          },
          "metadata": {
            "tags": []
          },
          "execution_count": 33
        },
        {
          "output_type": "display_data",
          "data": {
            "image/png": "[encoded data removed]",
            "text/plain": [
              "<matplotlib.figure.Figure at 0x7fb79805a668>"
            ]
          },
          "metadata": {
            "tags": []
          }
        }
      ]
    },
    {
      "metadata": {
        "id": "KoaIphCFlq3o",
        "colab_type": "text"
      },
      "cell_type": "markdown",
      "source": [
        "コードの全体"
      ]
    },
    {
      "metadata": {
        "id": "IDVcfeEa1jvt",
        "colab_type": "code",
        "outputId": "b5f7d471-e51a-4775-8247-3008eb14d832",
        "colab": {
          "base_uri": "https://localhost:8080/",
          "height": 349
        }
      },
      "cell_type": "code",
      "source": [
        "\n",
        "# -*- coding: utf-8 -*-\n",
        "import numpy as np\n",
        "from scipy.stats import norm\n",
        "import matplotlib.pyplot as plt\n",
        "\n",
        "def myrand_gmm(n, fill=0.0): # n は生成するデータの個数\n",
        "  x=np.zeros(n)\n",
        "  g=np.random.randn(n)\n",
        "  u=np.random.rand(n)\n",
        "  mu = np.array([1.0, 2.0, 3.0])     # 各ガウス分布の平均値．値を変えていろいろ試す． これは混合数 m=3 nの場合\n",
        "  sigma = np.array([0.1, 0.3, 0.8]) # 各分布の標準偏差．値を変えていろいろ試す．\n",
        "  flag=(0<=u)  &  (u<1/3) # この例は，各分布から1/3の確率でデータが出現する場合．\n",
        "  x = (mu[0] + sigma[0]*g)*flag\n",
        "  flag=(1/3<=u)  &  (u<2/3)\n",
        "  x += (mu[1] + sigma[1]*g)*flag\n",
        "  flag=(2/3<=u)  &  (u<=1)\n",
        "  x += (mu[2] + sigma[2]*g)*flag\n",
        "  return x\n",
        "\n",
        "def myrand(n, fill=0.0): # n は生成するデータの個数\n",
        "  x=np.zeros(n)\n",
        "  u=np.random.rand(n)  \n",
        "  flag=(0<=u)  &  (u<1/8)\n",
        "  x = np.sqrt(8*u)*flag\n",
        "  flag=(1/8<=u)  &  (u<1/4)\n",
        "  x += ( 2-np.sqrt( (2-8*u)*flag )    )*flag \n",
        "  flag=(1/4<=u)  &  (u<1/2)\n",
        "  x += (1+4*u)*flag\n",
        "  flag=(1/2<=u)  &  (u<3/4)\n",
        "  x += (3+np.sqrt(   (4*u-2)*flag ) )*flag\n",
        "  flag=(3/4<=u)  &  (u<=1)\n",
        "  x += (5-np.sqrt(4-4*u) )*flag\n",
        "  return x\n",
        "\n",
        "\n",
        "\n",
        "n = 10000 # 標本数（サンプル数）．\n",
        "# x = myrand_gmm(n) # 乱数の生成．実験に使うデータを生成する関数名に書き換える．\n",
        "x = myrand(n) \n",
        "m = 3  # 混合数．この値を変えて実験する．\n",
        " \n",
        "# 初期値の設定．w, mu, sigma2 は m 次元縦ベクトル．\n",
        "L = -np.inf\n",
        "w = np.ones(m)/m # m個の正規分布の重みの初期値\n",
        "w= w.reshape(m,1)\n",
        "mu = np.linspace( min(x), max(x), m)   # 平均値の初期値\n",
        "mu = mu.reshape(m,1) # m を明示的に縦ベクトルにする\n",
        "sigma2 = np.ones(m)/10  # 分散の初期値\n",
        "sigma2 = sigma2.reshape(m,1)\n",
        "\n",
        "mu_t = np.empty((1,m), float)\n",
        "\n",
        "while 1:\n",
        "  tmp1 = ( np.tile(x, (m,1)) - np.tile(mu, (1, n)) )* ( np.tile(x, (m,1)) - np.tile(mu, (1, n)) )\n",
        "  tmp2 = 2*np.tile( sigma2, (1, n) )\n",
        "  tmp3 = np.tile(w, (1, n) )*np.exp(-tmp1/tmp2)/np.sqrt(np.pi*tmp2)\n",
        "  eta = tmp3/np.tile(np.sum(tmp3, axis=0), (m, 1) )  # ここまでがηの計算\n",
        "  tmp4 = np.sum(eta, axis=1)\n",
        "  w = tmp4/n\n",
        "  w= w.reshape(m,1)\n",
        "  mu = (eta.dot(x))/tmp4\n",
        "  mu = mu.reshape(m,1)\n",
        "  \n",
        "  sigma2 = np.sum(tmp1*eta, axis=1)/tmp4\n",
        "  sigma2 = sigma2.reshape(m,1)\n",
        "  Lnew = np.sum(np.log(np.sum(tmp3,axis=0))) # 更新後の対数尤度 *** 教科書誤植あり\n",
        "  mu, sigma2, w\n",
        "  \n",
        "  if Lnew -L < 0.0001:\n",
        "    break\n",
        "  L = Lnew\n",
        "\n",
        "xx = np.arange(0,5,0.01) #0から5まで、0.01間隔．\n",
        "y0 = norm.pdf(xx,  mu[0], np.sqrt(sigma2[0] ) )\n",
        "y1 = norm.pdf(xx,  mu[1], np.sqrt(sigma2[1] ) )\n",
        "y2 = norm.pdf(xx,  mu[2], np.sqrt(sigma2[2] ) )\n",
        "y = w[0]*y0 + w[1]*y1 + w[2]* y2\n",
        "\n",
        "\n",
        "\n",
        "plt.plot(xx,y,color='r')\n",
        "# plt.hist(x, bins='auto', normed=True)\n",
        "plt.hist(x, bins=50, normed=True)\n",
        "\n",
        "\n",
        "# plt.plot(m,mu_t)\n",
        "plt.show()\n",
        "\n",
        "\n",
        "# もとの分布が混合ガウス分布の場合，もとのパラメータを指定し比較するのがよい．\n",
        "\n"
      ],
      "execution_count": 0,
      "outputs": [
        {
          "output_type": "display_data",
          "data": {
            "image/png": "[encoded data removed]",
            "text/plain": [
              "<matplotlib.figure.Figure at 0x7fb797282240>"
            ]
          },
          "metadata": {
            "tags": []
          }
        }
      ]
    },
    {
      "metadata": {
        "id": "mw72dpbaNcs2",
        "colab_type": "code",
        "outputId": "4b6da6f6-46d1-4639-a7a7-1b73b75c8622",
        "colab": {
          "base_uri": "https://localhost:8080/",
          "height": 364
        }
      },
      "cell_type": "code",
      "source": [
        "# -*- coding: utf-8 -*-\n",
        "import numpy as np\n",
        "from scipy.stats import norm\n",
        "import matplotlib.pyplot as plt\n",
        "\n",
        "y = [1.0] \n",
        "array_t = [0.0]\n",
        "h = 0.1e0  #刻み幅\n",
        "t = array_t[0] \n",
        "\n",
        "while t < 30:\n",
        "    x = np.random.randn(1)\n",
        "    y = np.append(y,x)\n",
        "    array_t = np.append(array_t,t)\n",
        "    t = t + h\n",
        "    \n",
        "plt.plot(array_t,y)"
      ],
      "execution_count": 0,
      "outputs": [
        {
          "output_type": "execute_result",
          "data": {
            "text/plain": [
              "[<matplotlib.lines.Line2D at 0x7fb79739d978>]"
            ]
          },
          "metadata": {
            "tags": []
          },
          "execution_count": 110
        },
        {
          "output_type": "display_data",
          "data": {
            "image/png": "[encoded data removed]",
            "text/plain": [
              "<matplotlib.figure.Figure at 0x7fb797383588>"
            ]
          },
          "metadata": {
            "tags": []
          }
        }
      ]
    },
    {
      "metadata": {
        "id": "Ne4G8c-AdoSV",
        "colab_type": "code",
        "outputId": "7a625d9c-78f4-4792-eb16-92e7bcd054ff",
        "colab": {
          "base_uri": "https://localhost:8080/",
          "height": 1605
        }
      },
      "cell_type": "code",
      "source": [
        "# -*- coding: utf-8 -*-\n",
        "import numpy as np\n",
        "from scipy.stats import norm\n",
        "import matplotlib.pyplot as plt\n",
        "\n",
        "\n",
        "y = np.array([1, 2]) \n",
        "y = y.reshape(2,1)\n",
        "    \n",
        "\n",
        "array_t = [0.0]\n",
        "h = 0.1  #刻み幅\n",
        "t = array_t[0] \n",
        "\n",
        "while t < 1:\n",
        "    x = np.random.randn(2)\n",
        "    x = x.reshape(2,1)\n",
        "    print(x)\n",
        "    \n",
        "    y = np.append(y,x, axis=1)\n",
        "    print(y)\n",
        "    print(y[0])\n",
        "      \n",
        "    array_t = np.append(array_t,t)\n",
        "    t = t + h\n",
        "    \n",
        "plt.plot(array_t,y[0])\n",
        "plt.plot(array_t,y[1])"
      ],
      "execution_count": 0,
      "outputs": [
        {
          "output_type": "stream",
          "text": [
            "[[-1.1861051 ]\n",
            " [ 0.55001801]]\n",
            "[[ 1.         -1.1861051 ]\n",
            " [ 2.          0.55001801]]\n",
            "[ 1.        -1.1861051]\n",
            "[[-2.19075837]\n",
            " [-0.50332245]]\n",
            "[[ 1.         -1.1861051  -2.19075837]\n",
            " [ 2.          0.55001801 -0.50332245]]\n",
            "[ 1.         -1.1861051  -2.19075837]\n",
            "[[-0.40338501]\n",
            " [-0.80849773]]\n",
            "[[ 1.         -1.1861051  -2.19075837 -0.40338501]\n",
            " [ 2.          0.55001801 -0.50332245 -0.80849773]]\n",
            "[ 1.         -1.1861051  -2.19075837 -0.40338501]\n",
            "[[-0.88341705]\n",
            " [-0.03619024]]\n",
            "[[ 1.         -1.1861051  -2.19075837 -0.40338501 -0.88341705]\n",
            " [ 2.          0.55001801 -0.50332245 -0.80849773 -0.03619024]]\n",
            "[ 1.         -1.1861051  -2.19075837 -0.40338501 -0.88341705]\n",
            "[[-0.6663094 ]\n",
            " [-0.46172545]]\n",
            "[[ 1.         -1.1861051  -2.19075837 -0.40338501 -0.88341705 -0.6663094 ]\n",
            " [ 2.          0.55001801 -0.50332245 -0.80849773 -0.03619024 -0.46172545]]\n",
            "[ 1.         -1.1861051  -2.19075837 -0.40338501 -0.88341705 -0.6663094 ]\n",
            "[[1.19173351]\n",
            " [2.16037045]]\n",
            "[[ 1.         -1.1861051  -2.19075837 -0.40338501 -0.88341705 -0.6663094\n",
            "   1.19173351]\n",
            " [ 2.          0.55001801 -0.50332245 -0.80849773 -0.03619024 -0.46172545\n",
            "   2.16037045]]\n",
            "[ 1.         -1.1861051  -2.19075837 -0.40338501 -0.88341705 -0.6663094\n",
            "  1.19173351]\n",
            "[[-0.38970651]\n",
            " [ 0.19516979]]\n",
            "[[ 1.         -1.1861051  -2.19075837 -0.40338501 -0.88341705 -0.6663094\n",
            "   1.19173351 -0.38970651]\n",
            " [ 2.          0.55001801 -0.50332245 -0.80849773 -0.03619024 -0.46172545\n",
            "   2.16037045  0.19516979]]\n",
            "[ 1.         -1.1861051  -2.19075837 -0.40338501 -0.88341705 -0.6663094\n",
            "  1.19173351 -0.38970651]\n",
            "[[ 0.18371148]\n",
            " [-1.34596433]]\n",
            "[[ 1.         -1.1861051  -2.19075837 -0.40338501 -0.88341705 -0.6663094\n",
            "   1.19173351 -0.38970651  0.18371148]\n",
            " [ 2.          0.55001801 -0.50332245 -0.80849773 -0.03619024 -0.46172545\n",
            "   2.16037045  0.19516979 -1.34596433]]\n",
            "[ 1.         -1.1861051  -2.19075837 -0.40338501 -0.88341705 -0.6663094\n",
            "  1.19173351 -0.38970651  0.18371148]\n",
            "[[-0.93148439]\n",
            " [ 0.36053844]]\n",
            "[[ 1.         -1.1861051  -2.19075837 -0.40338501 -0.88341705 -0.6663094\n",
            "   1.19173351 -0.38970651  0.18371148 -0.93148439]\n",
            " [ 2.          0.55001801 -0.50332245 -0.80849773 -0.03619024 -0.46172545\n",
            "   2.16037045  0.19516979 -1.34596433  0.36053844]]\n",
            "[ 1.         -1.1861051  -2.19075837 -0.40338501 -0.88341705 -0.6663094\n",
            "  1.19173351 -0.38970651  0.18371148 -0.93148439]\n",
            "[[-1.26410822]\n",
            " [ 0.95265704]]\n",
            "[[ 1.         -1.1861051  -2.19075837 -0.40338501 -0.88341705 -0.6663094\n",
            "   1.19173351 -0.38970651  0.18371148 -0.93148439 -1.26410822]\n",
            " [ 2.          0.55001801 -0.50332245 -0.80849773 -0.03619024 -0.46172545\n",
            "   2.16037045  0.19516979 -1.34596433  0.36053844  0.95265704]]\n",
            "[ 1.         -1.1861051  -2.19075837 -0.40338501 -0.88341705 -0.6663094\n",
            "  1.19173351 -0.38970651  0.18371148 -0.93148439 -1.26410822]\n",
            "[[-0.89412488]\n",
            " [ 0.96166268]]\n",
            "[[ 1.         -1.1861051  -2.19075837 -0.40338501 -0.88341705 -0.6663094\n",
            "   1.19173351 -0.38970651  0.18371148 -0.93148439 -1.26410822 -0.89412488]\n",
            " [ 2.          0.55001801 -0.50332245 -0.80849773 -0.03619024 -0.46172545\n",
            "   2.16037045  0.19516979 -1.34596433  0.36053844  0.95265704  0.96166268]]\n",
            "[ 1.         -1.1861051  -2.19075837 -0.40338501 -0.88341705 -0.6663094\n",
            "  1.19173351 -0.38970651  0.18371148 -0.93148439 -1.26410822 -0.89412488]\n"
          ],
          "name": "stdout"
        },
        {
          "output_type": "execute_result",
          "data": {
            "text/plain": [
              "[<matplotlib.lines.Line2D at 0x7fb797d4d1d0>]"
            ]
          },
          "metadata": {
            "tags": []
          },
          "execution_count": 142
        },
        {
          "output_type": "display_data",
          "data": {
            "image/png": "[encoded data removed]",
            "text/plain": [
              "<matplotlib.figure.Figure at 0x7fb79aa3aeb8>"
            ]
          },
          "metadata": {
            "tags": []
          }
        }
      ]
    },
    {
      "metadata": {
        "id": "IYpo8WxdeB9W",
        "colab_type": "text"
      },
      "cell_type": "markdown",
      "source": [
        "以下，試行錯誤"
      ]
    },
    {
      "metadata": {
        "id": "i2L6xFOLmZvo",
        "colab_type": "code",
        "outputId": "6aef01cd-9b3b-46e3-df11-09f701fbd26d",
        "colab": {
          "base_uri": "https://localhost:8080/",
          "height": 401
        }
      },
      "cell_type": "code",
      "source": [
        "# -*- coding: utf-8 -*-\n",
        "import numpy as np\n",
        "from scipy.stats import norm\n",
        "import matplotlib.pyplot as plt\n",
        "\n",
        "def myrand_gmm(n, fill=0.0): # n は生成するデータの個数\n",
        "  x=np.zeros(n)\n",
        "  g=np.random.randn(n)\n",
        "  u=np.random.rand(n)\n",
        "  mu = np.array([1.0, 2.0, 3.0])     # 各ガウス分布の平均値．値を変えていろいろ試す． これは混合数 m=3 nの場合\n",
        "  sigma = np.array([0.1, 0.3, 0.8]) # 各分布の標準偏差．値を変えていろいろ試す．\n",
        "  flag=(0<=u)  &  (u<1/3) # この例は，各分布から1/3の確率でデータが出現する場合．\n",
        "  x = (mu[0] + sigma[0]*g)*flag\n",
        "  flag=(1/3<=u)  &  (u<2/3)\n",
        "  x += (mu[1] + sigma[1]*g)*flag\n",
        "  flag=(2/3<=u)  &  (u<=1)\n",
        "  x += (mu[2] + sigma[2]*g)*flag\n",
        "  return x\n",
        "\n",
        "def myrand(n, fill=0.0): # n は生成するデータの個数\n",
        "  x=np.zeros(n)\n",
        "  u=np.random.rand(n)  \n",
        "  flag=(0<=u)  &  (u<1/8)\n",
        "  x = np.sqrt(8*u)*flag\n",
        "  flag=(1/8<=u)  &  (u<1/4)\n",
        "  x += ( 2-np.sqrt( (2-8*u)*flag )    )*flag \n",
        "  flag=(1/4<=u)  &  (u<1/2)\n",
        "  x += (1+4*u)*flag\n",
        "  flag=(1/2<=u)  &  (u<3/4)\n",
        "  x += (3+np.sqrt(   (4*u-2)*flag ) )*flag\n",
        "  flag=(3/4<=u)  &  (u<=1)\n",
        "  x += (5-np.sqrt(4-4*u) )*flag\n",
        "  return x\n",
        "\n",
        "\n",
        "# Fixing random state for reproducibility\n",
        "np.random.seed(20190105)\n",
        "\n",
        "n = 100000 # 標本数（サンプル数）．\n",
        "# x = myrand_gmm(n) # 乱数の生成．実験に使うデータを生成する関数名に書き換える．\n",
        "x = myrand(n) \n",
        "m = 3  # 混合数．この値を変えて実験する．\n",
        " \n",
        "# 初期値の設定．w, mu, sigma2 は m 次元縦ベクトル．\n",
        "L = -np.inf\n",
        "w = np.ones(m)/m # m個の正規分布の重みの初期値\n",
        "w= w.reshape(m,1)\n",
        "mu = np.linspace( min(x), max(x), m)   # 平均値の初期値\n",
        "mu = mu.reshape(m,1) # m を明示的に縦ベクトルにする\n",
        "sigma2 = np.ones(m)/10  # 分散の初期値\n",
        "sigma2 = sigma2.reshape(m,1)\n",
        "\n",
        "# mu_t = np.empty((1,m), float)\n",
        "\n",
        "Lt = L\n",
        "wt = w\n",
        "mut = mu\n",
        "sigma2t = sigma2\n",
        "t=0\n",
        "tt = np.array([0]) \n",
        "\n",
        "while 1:\n",
        "  tmp1 = ( np.tile(x, (m,1)) - np.tile(mu, (1, n)) )* ( np.tile(x, (m,1)) - np.tile(mu, (1, n)) )\n",
        "  tmp2 = 2*np.tile( sigma2, (1, n) )\n",
        "  tmp3 = np.tile(w, (1, n) )*np.exp(-tmp1/tmp2)/np.sqrt(np.pi*tmp2)\n",
        "  eta = tmp3/np.tile(np.sum(tmp3, axis=0), (m, 1) )  # ここまでがηの計算\n",
        "  tmp4 = np.sum(eta, axis=1)\n",
        "  w = tmp4/n\n",
        "  w= w.reshape(m,1)\n",
        "  mu = (eta.dot(x))/tmp4\n",
        "  mu = mu.reshape(m,1)\n",
        "  \n",
        "  sigma2 = np.sum(tmp1*eta, axis=1)/tmp4\n",
        "  sigma2 = sigma2.reshape(m,1)\n",
        "  Lnew = np.sum(np.log(np.sum(tmp3,axis=0))) # 更新後の対数尤度\n",
        "\n",
        "  wt = np.append(wt,w, axis=1)\n",
        "  mut = np.append(mut,mu, axis=1)\n",
        "  sigma2t = np.append(sigma2t,sigma2, axis=1)\n",
        "  \n",
        "  # mu, sigma2, w\n",
        "  \n",
        "  if Lnew -L < 0.0001:\n",
        "    break\n",
        "  L = Lnew\n",
        "  Lt = np.append(Lt,L)\n",
        "  t = t+1\n",
        "  tt = np.append(tt,t)\n",
        "    \n",
        "xx = np.arange(0,5,0.01) #0から5まで、0.01間隔．\n",
        "y0 = norm.pdf(xx,  mu[0], np.sqrt(sigma2[0] ) )\n",
        "y1 = norm.pdf(xx,  mu[1], np.sqrt(sigma2[1] ) )\n",
        "y2 = norm.pdf(xx,  mu[2], np.sqrt(sigma2[2] ) )\n",
        "y = w[0]*y0 + w[1]*y1 + w[2]* y2\n",
        "\n",
        "\n",
        "fig, axs = plt.subplots(2, 2)\n",
        "\n",
        "#plt.plot(xx,y,color='r')\n",
        "# plt.hist(x, bins='auto', normed=True)\n",
        "#plt.hist(x, bins=50, normed=True)\n",
        "\n",
        "axs[0,0].plot(xx,y,color='r')\n",
        "axs[0,0].hist(x, bins='auto', normed=True)\n",
        "\n",
        "axs[0,1].plot(wt[0])\n",
        "axs[0,1].plot(wt[1])\n",
        "axs[0,1].plot(wt[2])\n",
        "# axs[0].set_xlim(0, 2)\n",
        "axs[0,1].set_xlabel('time')\n",
        "axs[0,1].set_ylabel('w0, w1, and w2')\n",
        "axs[0,1].grid(True)\n",
        "            \n",
        "\n",
        "axs[1,0].plot(mut[0])\n",
        "axs[1,0].plot(mut[1])\n",
        "axs[1,0].plot(mut[2])\n",
        "# axs[0].set_xlim(0, 2)\n",
        "axs[1,0].set_xlabel('time')\n",
        "axs[1,0].set_ylabel('mu0, mu1, and mu2')\n",
        "axs[1,0].grid(True)\n",
        "            \n",
        "axs[1,1].plot(sigma2t[0])\n",
        "axs[1,1].plot(sigma2t[1])\n",
        "axs[1,1].plot(sigma2t[2])\n",
        "# axs[0].set_xlim(0, 2)\n",
        "axs[1,1].set_xlabel('time')\n",
        "axs[1,1].set_ylabel('sigma0, 1, and 2')\n",
        "axs[1,1].grid(True)\n",
        "\n",
        "#plt.plot(Lt)\n",
        "\n",
        "#axs[3].set_xlabel('time')\n",
        "##axs[3].set_ylabel('Likelihood')\n",
        "#axs[3].grid(True)\n",
        "#axs[3].plot(Lt)\n",
        "\n",
        "fig.tight_layout()\n",
        "plt.show()\n"
      ],
      "execution_count": 0,
      "outputs": [
        {
          "output_type": "display_data",
          "data": {
            "image/png": "[encoded data removed]",
            "text/plain": [
              "<matplotlib.figure.Figure at 0x7fec1fb0c3c8>"
            ]
          },
          "metadata": {
            "tags": []
          }
        }
      ]
    },
    {
      "metadata": {
        "id": "F4BBbzDs0kVK",
        "colab_type": "code",
        "colab": {}
      },
      "cell_type": "code",
      "source": [
        "\n",
        "\n",
        "\n",
        "        \n",
        "\n",
        "\n",
        " \n",
        "% もとの分布が混合ガウス分布の場合，もとのパラメータを指定し比較するのがよい．\n",
        "figure(2); clf;\n",
        "plot(xx, y1, 'r-', xx, y2, 'r-', xx, y3, 'r-', xx, y, 'b-');\n",
        "print -depsc2 gmm801.eps"
      ],
      "execution_count": 0,
      "outputs": []
    }
  ]
}