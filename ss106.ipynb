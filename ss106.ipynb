{
  "nbformat": 4,
  "nbformat_minor": 0,
  "metadata": {
    "colab": {
      "name": "ss106.ipynb",
      "version": "0.3.2",
      "provenance": [],
      "include_colab_link": true
    },
    "kernelspec": {
      "name": "python3",
      "display_name": "Python 3"
    }
  },
  "cells": [
    {
      "cell_type": "markdown",
      "metadata": {
        "id": "view-in-github",
        "colab_type": "text"
      },
      "source": [
        "<a href=\"https://colab.research.google.com/github/date333cs/Start_Python/blob/master/ss106.ipynb\" target=\"_parent\"><img src=\"https://colab.research.google.com/assets/colab-badge.svg\" alt=\"Open In Colab\"/></a>"
      ]
    },
    {
      "metadata": {
        "id": "RBgrjOXNcjzc",
        "colab_type": "code",
        "colab": {
          "base_uri": "https://localhost:8080/",
          "height": 347
        },
        "outputId": "7c93e67b-3b19-446d-e014-705e54070835"
      },
      "cell_type": "code",
      "source": [
        "# -*- coding: utf-8 -*-\n",
        "import random\n",
        "import numpy\n",
        "import matplotlib.pyplot as plt\n",
        "\n",
        "T = 10000\n",
        "Mu = 0.0\n",
        "Sigma = 1.0\n",
        "#random.seed( 20190121)\n",
        "\n",
        "y = []\n",
        "n1 = 0; n2=0; n3=0\n",
        "for i in range(T):\n",
        "    r = random.gauss(Mu, Sigma)\n",
        "    y.append(r)\n",
        "\n",
        "y = numpy.array(y)\n",
        "\n",
        "# キャンバス\n",
        "fig = plt.figure()\n",
        "\n",
        "ax = fig.add_subplot(111)\n",
        "ax.hist(y, bins=101, range=(-5, 5), density=False, facecolor='g')\n",
        "ax.set_xlim(-5, 5)\n",
        "ax.grid(True)\n",
        "\n",
        "plt.show()"
      ],
      "execution_count": 9,
      "outputs": [
        {
          "output_type": "display_data",
          "data": {
            "image/png": "[encoded data removed]",
            "text/plain": [
              "<Figure size 576x396 with 1 Axes>"
            ]
          },
          "metadata": {
            "tags": []
          }
        }
      ]
    },
    {
      "metadata": {
        "id": "4CD-YQasdxLB",
        "colab_type": "code",
        "colab": {
          "base_uri": "https://localhost:8080/",
          "height": 51
        },
        "outputId": "dd60216e-374b-4698-b8ea-7f9effbdb5bf"
      },
      "cell_type": "code",
      "source": [
        "y"
      ],
      "execution_count": 11,
      "outputs": [
        {
          "output_type": "execute_result",
          "data": {
            "text/plain": [
              "array([ 1.24184769, -0.36455581, -0.2050046 , ..., -0.41863174,\n",
              "       -0.16090372, -0.81104149])"
            ]
          },
          "metadata": {
            "tags": []
          },
          "execution_count": 11
        }
      ]
    },
    {
      "metadata": {
        "id": "XiqZ7GmWdx93",
        "colab_type": "code",
        "colab": {
          "base_uri": "https://localhost:8080/",
          "height": 51
        },
        "outputId": "dd3aafd5-3d80-4a18-9788-3d21aa9b1e3c"
      },
      "cell_type": "code",
      "source": [
        "print(y)"
      ],
      "execution_count": 13,
      "outputs": [
        {
          "output_type": "stream",
          "text": [
            "[ 1.24184769 -0.36455581 -0.2050046  ... -0.41863174 -0.16090372\n",
            " -0.81104149]\n"
          ],
          "name": "stdout"
        }
      ]
    },
    {
      "metadata": {
        "id": "P__xMXYAdzVX",
        "colab_type": "code",
        "colab": {}
      },
      "cell_type": "code",
      "source": [
        ""
      ],
      "execution_count": 0,
      "outputs": []
    }
  ]
}