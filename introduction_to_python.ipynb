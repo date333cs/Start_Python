{
  "nbformat": 4,
  "nbformat_minor": 0,
  "metadata": {
    "colab": {
      "name": "introduction_to_python.ipynb",
      "version": "0.3.2",
      "provenance": [],
      "include_colab_link": true
    }
  },
  "cells": [
    {
      "cell_type": "markdown",
      "metadata": {
        "id": "view-in-github",
        "colab_type": "text"
      },
      "source": [
        "[View in Colaboratory](https://colab.research.google.com/github/date333cs/Start_Python/blob/master/introduction_to_python.ipynb)"
      ]
    },
    {
      "metadata": {
        "id": "VMCFapnzmJ_9",
        "colab_type": "text"
      },
      "cell_type": "markdown",
      "source": [
        "# Python の使い方"
      ]
    },
    {
      "metadata": {
        "id": "eyog4zVEmaWo",
        "colab_type": "text"
      },
      "cell_type": "markdown",
      "source": [
        "[統計的機械学習（杉山将著）](https://www.ohmsha.co.jp/book/9784274502484)の Octave のコードを，すべて Python で書き換える．以下は 「2.2 Octave の使い方」を書き換えたもの．"
      ]
    },
    {
      "metadata": {
        "id": "Jzd3iMu6mTH_",
        "colab_type": "text"
      },
      "cell_type": "markdown",
      "source": [
        "** Python の起動 **"
      ]
    },
    {
      "metadata": {
        "id": "2gwSDQP6nC63",
        "colab_type": "text"
      },
      "cell_type": "markdown",
      "source": [
        "コマンドラインから 'python' と打ち込めば，Python が起動する．この ノート上では必要ない．"
      ]
    },
    {
      "metadata": {
        "id": "qHTA7xq8nNZp",
        "colab_type": "text"
      },
      "cell_type": "markdown",
      "source": [
        "まずは Python を電卓のように使ってみよう．"
      ]
    },
    {
      "metadata": {
        "id": "TtbJYMFmnSGg",
        "colab_type": "code",
        "colab": {
          "base_uri": "https://localhost:8080/",
          "height": 34
        },
        "outputId": "0d434db4-ae68-4b99-a921-86e6a376578c"
      },
      "cell_type": "code",
      "source": [
        "(1+2)*(3-4)*5^2"
      ],
      "execution_count": 4,
      "outputs": [
        {
          "output_type": "execute_result",
          "data": {
            "text/plain": [
              "-13"
            ]
          },
          "metadata": {
            "tags": []
          },
          "execution_count": 4
        }
      ]
    },
    {
      "metadata": {
        "id": "WTwU2-runlF5",
        "colab_type": "text"
      },
      "cell_type": "markdown",
      "source": [
        "あれ？"
      ]
    },
    {
      "metadata": {
        "id": "Ey2PSTNrntPE",
        "colab_type": "code",
        "colab": {
          "base_uri": "https://localhost:8080/",
          "height": 34
        },
        "outputId": "5d6e3d22-0b8e-452b-cd6a-19fe8e5f0e96"
      },
      "cell_type": "code",
      "source": [
        "5^2"
      ],
      "execution_count": 5,
      "outputs": [
        {
          "output_type": "execute_result",
          "data": {
            "text/plain": [
              "7"
            ]
          },
          "metadata": {
            "tags": []
          },
          "execution_count": 5
        }
      ]
    },
    {
      "metadata": {
        "id": "6NPwkCNIn5U8",
        "colab_type": "code",
        "colab": {
          "base_uri": "https://localhost:8080/",
          "height": 34
        },
        "outputId": "91138ca9-0757-4f32-ba80-3422ac3b69c5"
      },
      "cell_type": "code",
      "source": [
        "5**2"
      ],
      "execution_count": 6,
      "outputs": [
        {
          "output_type": "execute_result",
          "data": {
            "text/plain": [
              "25"
            ]
          },
          "metadata": {
            "tags": []
          },
          "execution_count": 6
        }
      ]
    },
    {
      "metadata": {
        "id": "fecEz228n7AL",
        "colab_type": "code",
        "colab": {
          "base_uri": "https://localhost:8080/",
          "height": 34
        },
        "outputId": "94090659-9c51-4512-e021-64a154e3ed4c"
      },
      "cell_type": "code",
      "source": [
        "(1+2)*(3-4)*5**2"
      ],
      "execution_count": 7,
      "outputs": [
        {
          "output_type": "execute_result",
          "data": {
            "text/plain": [
              "-75"
            ]
          },
          "metadata": {
            "tags": []
          },
          "execution_count": 7
        }
      ]
    },
    {
      "metadata": {
        "id": "mO_cs10Sn-My",
        "colab_type": "code",
        "colab": {
          "base_uri": "https://localhost:8080/",
          "height": 168
        },
        "outputId": "560d19b2-2a24-4de1-a111-d59bb31c7906"
      },
      "cell_type": "code",
      "source": [
        "exp(10)*log(5)*sin(0.5*pi)"
      ],
      "execution_count": 8,
      "outputs": [
        {
          "output_type": "error",
          "ename": "NameError",
          "evalue": "ignored",
          "traceback": [
            "\u001b[0;31m\u001b[0m",
            "\u001b[0;31mNameError\u001b[0mTraceback (most recent call last)",
            "\u001b[0;32m<ipython-input-8-1cf72cd30d81>\u001b[0m in \u001b[0;36m<module>\u001b[0;34m()\u001b[0m\n\u001b[0;32m----> 1\u001b[0;31m \u001b[0mexp\u001b[0m\u001b[0;34m(\u001b[0m\u001b[0;36m10\u001b[0m\u001b[0;34m)\u001b[0m\u001b[0;34m*\u001b[0m\u001b[0mlog\u001b[0m\u001b[0;34m(\u001b[0m\u001b[0;36m5\u001b[0m\u001b[0;34m)\u001b[0m\u001b[0;34m*\u001b[0m\u001b[0msin\u001b[0m\u001b[0;34m(\u001b[0m\u001b[0;36m0.5\u001b[0m\u001b[0;34m*\u001b[0m\u001b[0mpi\u001b[0m\u001b[0;34m)\u001b[0m\u001b[0;34m\u001b[0m\u001b[0m\n\u001b[0m",
            "\u001b[0;31mNameError\u001b[0m: name 'exp' is not defined"
          ]
        }
      ]
    },
    {
      "metadata": {
        "id": "ootzWOFqoIQL",
        "colab_type": "code",
        "colab": {}
      },
      "cell_type": "code",
      "source": [
        "import math"
      ],
      "execution_count": 0,
      "outputs": []
    },
    {
      "metadata": {
        "id": "JgZ8R5HWoUb2",
        "colab_type": "code",
        "colab": {
          "base_uri": "https://localhost:8080/",
          "height": 34
        },
        "outputId": "e3b8b4a5-fab9-4764-9463-ddcd3eddb9f2"
      },
      "cell_type": "code",
      "source": [
        "math.exp(10)*math.log(5)*math.sin(0.5*math.pi)"
      ],
      "execution_count": 9,
      "outputs": [
        {
          "output_type": "execute_result",
          "data": {
            "text/plain": [
              "35450.22912709484"
            ]
          },
          "metadata": {
            "tags": []
          },
          "execution_count": 9
        }
      ]
    },
    {
      "metadata": {
        "id": "XyilcR6BoWCX",
        "colab_type": "code",
        "colab": {}
      },
      "cell_type": "code",
      "source": [
        "import numpy as np"
      ],
      "execution_count": 0,
      "outputs": []
    },
    {
      "metadata": {
        "id": "JTz3fg3OrYA5",
        "colab_type": "text"
      },
      "cell_type": "markdown",
      "source": [
        "これで  numpy を np で使えるようになる．"
      ]
    },
    {
      "metadata": {
        "id": "PKTi5uuCpWls",
        "colab_type": "code",
        "colab": {
          "base_uri": "https://localhost:8080/",
          "height": 34
        },
        "outputId": "23d336d0-edbe-4885-9745-b07e39af9cfa"
      },
      "cell_type": "code",
      "source": [
        "np.exp(10)*np.log(5)*np.sin(0.5*np.pi)"
      ],
      "execution_count": 11,
      "outputs": [
        {
          "output_type": "execute_result",
          "data": {
            "text/plain": [
              "35450.22912709484"
            ]
          },
          "metadata": {
            "tags": []
          },
          "execution_count": 11
        }
      ]
    },
    {
      "metadata": {
        "id": "PSueEW7hptUv",
        "colab_type": "text"
      },
      "cell_type": "markdown",
      "source": [
        "numpy を使おう．"
      ]
    },
    {
      "metadata": {
        "id": "Ga_-8Hg0o23h",
        "colab_type": "text"
      },
      "cell_type": "markdown",
      "source": [
        "# **ベクトル，行列の演算**"
      ]
    },
    {
      "metadata": {
        "id": "v05Sbfm9p53-",
        "colab_type": "text"
      },
      "cell_type": "markdown",
      "source": [
        "Python では，octave と同じように，\n",
        "  ベクトルや行列を\n",
        "  直接扱うことができる．\n",
        "  線形代数を知っている人は，ちょっと戸惑う使い方を\n",
        "  する場面があるが，\n",
        "  「こういうふうに計算できるのか」と思って\n",
        "  進むのがよい．\n",
        "  まず，以下では，\n",
        "  $$ \n",
        "A =\n",
        "\\begin{pmatrix}\n",
        "1 & 2 \\\\\n",
        "3 & 4\n",
        "\\end{pmatrix}\n",
        ",~\n",
        "x =\n",
        "\\begin{pmatrix}\n",
        "5 \\\\\n",
        "6\n",
        "\\end{pmatrix}\n",
        "$$\n",
        "という例を使って説明しよう．"
      ]
    },
    {
      "metadata": {
        "id": "d4PgGj-MrlIZ",
        "colab_type": "text"
      },
      "cell_type": "markdown",
      "source": [
        "$$ Ax =\n",
        "\\begin{pmatrix}\n",
        "1 & 2 \\\\\n",
        "3 & 4\n",
        "\\end{pmatrix}\n",
        "\\begin{pmatrix}\n",
        "5 \\\\\n",
        "6\n",
        "\\end{pmatrix}\n",
        "=\n",
        "\\begin{pmatrix}\n",
        "5+12 \\\\\n",
        "15+24 \n",
        "\\end{pmatrix}\n",
        "=\n",
        "\\begin{pmatrix}\n",
        "17 \\\\\n",
        "39 \n",
        "\\end{pmatrix}\n",
        "$$\n",
        "の計算をしてみよう．"
      ]
    },
    {
      "metadata": {
        "id": "o4_m4bgio5kI",
        "colab_type": "code",
        "colab": {}
      },
      "cell_type": "code",
      "source": [
        "A = np.array([[1, 2], [3,4]])"
      ],
      "execution_count": 0,
      "outputs": []
    },
    {
      "metadata": {
        "id": "HNqctdDErySb",
        "colab_type": "code",
        "colab": {
          "base_uri": "https://localhost:8080/",
          "height": 51
        },
        "outputId": "ad9f86dc-48a9-44e1-f356-3ff9670aaa69"
      },
      "cell_type": "code",
      "source": [
        "A"
      ],
      "execution_count": 14,
      "outputs": [
        {
          "output_type": "execute_result",
          "data": {
            "text/plain": [
              "array([[1, 2],\n",
              "       [3, 4]])"
            ]
          },
          "metadata": {
            "tags": []
          },
          "execution_count": 14
        }
      ]
    },
    {
      "metadata": {
        "id": "uj-W_5cvrzY4",
        "colab_type": "code",
        "colab": {}
      },
      "cell_type": "code",
      "source": [
        "b = np.array([5, 6])"
      ],
      "execution_count": 0,
      "outputs": []
    },
    {
      "metadata": {
        "id": "icGu6WnLr1yq",
        "colab_type": "code",
        "colab": {
          "base_uri": "https://localhost:8080/",
          "height": 34
        },
        "outputId": "e8c1fc5e-5da1-4c99-f233-9e99cd37b8a7"
      },
      "cell_type": "code",
      "source": [
        "b"
      ],
      "execution_count": 16,
      "outputs": [
        {
          "output_type": "execute_result",
          "data": {
            "text/plain": [
              "array([5, 6])"
            ]
          },
          "metadata": {
            "tags": []
          },
          "execution_count": 16
        }
      ]
    },
    {
      "metadata": {
        "id": "9piqn42DsH9N",
        "colab_type": "text"
      },
      "cell_type": "markdown",
      "source": [
        "ちなみに，型は"
      ]
    },
    {
      "metadata": {
        "id": "K6CL6TQssNsT",
        "colab_type": "code",
        "colab": {
          "base_uri": "https://localhost:8080/",
          "height": 34
        },
        "outputId": "1b20bbbd-5eb4-4fdc-aa01-d261494efcd0"
      },
      "cell_type": "code",
      "source": [
        "type(A)"
      ],
      "execution_count": 17,
      "outputs": [
        {
          "output_type": "execute_result",
          "data": {
            "text/plain": [
              "numpy.ndarray"
            ]
          },
          "metadata": {
            "tags": []
          },
          "execution_count": 17
        }
      ]
    },
    {
      "metadata": {
        "id": "BCQ25TgVsSyn",
        "colab_type": "code",
        "colab": {
          "base_uri": "https://localhost:8080/",
          "height": 34
        },
        "outputId": "4c8c353c-ed41-408e-f849-ddc8efa43fc5"
      },
      "cell_type": "code",
      "source": [
        "A.shape"
      ],
      "execution_count": 18,
      "outputs": [
        {
          "output_type": "execute_result",
          "data": {
            "text/plain": [
              "(2, 2)"
            ]
          },
          "metadata": {
            "tags": []
          },
          "execution_count": 18
        }
      ]
    },
    {
      "metadata": {
        "id": "5RfNo8FCsVp8",
        "colab_type": "code",
        "colab": {
          "base_uri": "https://localhost:8080/",
          "height": 34
        },
        "outputId": "56fe7866-af0b-45da-affb-c2df7b089a31"
      },
      "cell_type": "code",
      "source": [
        "b.shape"
      ],
      "execution_count": 19,
      "outputs": [
        {
          "output_type": "execute_result",
          "data": {
            "text/plain": [
              "(2,)"
            ]
          },
          "metadata": {
            "tags": []
          },
          "execution_count": 19
        }
      ]
    },
    {
      "metadata": {
        "id": "k9i3R1k0r-eS",
        "colab_type": "text"
      },
      "cell_type": "markdown",
      "source": [
        "このように知ることができる．\n",
        "ndarray の nd って何，とか，\n",
        "(2, ~) のうしろのカンマは何，とか，\n",
        "疑問はあるが，前に進もう．"
      ]
    },
    {
      "metadata": {
        "id": "geWCxOd2sRLU",
        "colab_type": "code",
        "colab": {
          "base_uri": "https://localhost:8080/",
          "height": 34
        },
        "outputId": "e0aed9e4-90e5-448e-96bf-b100ba853dc5"
      },
      "cell_type": "code",
      "source": [
        "A.dot(b)"
      ],
      "execution_count": 20,
      "outputs": [
        {
          "output_type": "execute_result",
          "data": {
            "text/plain": [
              "array([17, 39])"
            ]
          },
          "metadata": {
            "tags": []
          },
          "execution_count": 20
        }
      ]
    },
    {
      "metadata": {
        "id": "JIx54Ccpsk9u",
        "colab_type": "text"
      },
      "cell_type": "markdown",
      "source": [
        "この例でわかるように， 驚くべきことに， ベクトルに 縦ベクトルと，横ベクトルの区別が ない． 本来は，"
      ]
    },
    {
      "metadata": {
        "id": "MEiNLoNIsxvV",
        "colab_type": "code",
        "colab": {}
      },
      "cell_type": "code",
      "source": [
        "b = np.array([[5], [6]])"
      ],
      "execution_count": 0,
      "outputs": []
    },
    {
      "metadata": {
        "id": "_RO_oOz2s0B2",
        "colab_type": "code",
        "colab": {
          "base_uri": "https://localhost:8080/",
          "height": 51
        },
        "outputId": "24f57d69-5bea-4fee-9958-75acb73cc7ce"
      },
      "cell_type": "code",
      "source": [
        "b"
      ],
      "execution_count": 22,
      "outputs": [
        {
          "output_type": "execute_result",
          "data": {
            "text/plain": [
              "array([[5],\n",
              "       [6]])"
            ]
          },
          "metadata": {
            "tags": []
          },
          "execution_count": 22
        }
      ]
    },
    {
      "metadata": {
        "id": "idhDZe5qsifD",
        "colab_type": "text"
      },
      "cell_type": "markdown",
      "source": [
        ""
      ]
    },
    {
      "metadata": {
        "id": "WlqFft2hs5LA",
        "colab_type": "code",
        "colab": {
          "base_uri": "https://localhost:8080/",
          "height": 34
        },
        "outputId": "7d912ac1-1f45-4cc2-b453-4fd58793f28d"
      },
      "cell_type": "code",
      "source": [
        "b.shape"
      ],
      "execution_count": 23,
      "outputs": [
        {
          "output_type": "execute_result",
          "data": {
            "text/plain": [
              "(2, 1)"
            ]
          },
          "metadata": {
            "tags": []
          },
          "execution_count": 23
        }
      ]
    },
    {
      "metadata": {
        "id": "PpgmAsRms9JP",
        "colab_type": "text"
      },
      "cell_type": "markdown",
      "source": [
        "とすべきだと思うが，\n",
        "そういう使い方をしているコードは，見かけない．"
      ]
    },
    {
      "metadata": {
        "id": "kVl6mw67tCFh",
        "colab_type": "text"
      },
      "cell_type": "markdown",
      "source": [
        "$$  x^{\\top}A =\n",
        "\\begin{pmatrix}\n",
        "5 & 6\n",
        "\\end{pmatrix}\n",
        "\\begin{pmatrix}\n",
        "1 & 2 \\\\\n",
        "3 & 4\n",
        "\\end{pmatrix}\n",
        "=\n",
        "\\begin{pmatrix}\n",
        "5+18 & 10+24 \n",
        "\\end{pmatrix}\n",
        "=\n",
        "\\begin{pmatrix}\n",
        "23 & 34 \n",
        "\\end{pmatrix}\n",
        "$$"
      ]
    },
    {
      "metadata": {
        "id": "iG39kfOtubbe",
        "colab_type": "code",
        "colab": {}
      },
      "cell_type": "code",
      "source": [
        "b = np.array([5, 6])"
      ],
      "execution_count": 0,
      "outputs": []
    },
    {
      "metadata": {
        "id": "KYgENAB7tCoi",
        "colab_type": "code",
        "colab": {
          "base_uri": "https://localhost:8080/",
          "height": 34
        },
        "outputId": "0c4cb7c0-6ef3-43db-8f25-321861beba53"
      },
      "cell_type": "code",
      "source": [
        "A.dot(b)"
      ],
      "execution_count": 25,
      "outputs": [
        {
          "output_type": "execute_result",
          "data": {
            "text/plain": [
              "array([17, 39])"
            ]
          },
          "metadata": {
            "tags": []
          },
          "execution_count": 25
        }
      ]
    },
    {
      "metadata": {
        "id": "9Kq4bOQDtf01",
        "colab_type": "code",
        "colab": {
          "base_uri": "https://localhost:8080/",
          "height": 34
        },
        "outputId": "ae1000b7-7053-4ecf-c9c7-ed78e6f679d8"
      },
      "cell_type": "code",
      "source": [
        "b.dot(A)"
      ],
      "execution_count": 26,
      "outputs": [
        {
          "output_type": "execute_result",
          "data": {
            "text/plain": [
              "array([23, 34])"
            ]
          },
          "metadata": {
            "tags": []
          },
          "execution_count": 26
        }
      ]
    },
    {
      "metadata": {
        "id": "8uarrdefujNQ",
        "colab_type": "text"
      },
      "cell_type": "markdown",
      "source": [
        "行列 $A$ の転置 $ A^{\\top}$ は"
      ]
    },
    {
      "metadata": {
        "id": "8m9ZmIZGuRY4",
        "colab_type": "code",
        "colab": {
          "base_uri": "https://localhost:8080/",
          "height": 51
        },
        "outputId": "00dea863-3c82-437c-cc49-5eafa6ea8dbf"
      },
      "cell_type": "code",
      "source": [
        "A"
      ],
      "execution_count": 27,
      "outputs": [
        {
          "output_type": "execute_result",
          "data": {
            "text/plain": [
              "array([[1, 2],\n",
              "       [3, 4]])"
            ]
          },
          "metadata": {
            "tags": []
          },
          "execution_count": 27
        }
      ]
    },
    {
      "metadata": {
        "id": "KcWmyp07uqzF",
        "colab_type": "code",
        "colab": {
          "base_uri": "https://localhost:8080/",
          "height": 51
        },
        "outputId": "5d10fa33-df5b-443e-9356-017e306ca90a"
      },
      "cell_type": "code",
      "source": [
        "A.T"
      ],
      "execution_count": 29,
      "outputs": [
        {
          "output_type": "execute_result",
          "data": {
            "text/plain": [
              "array([[1, 3],\n",
              "       [2, 4]])"
            ]
          },
          "metadata": {
            "tags": []
          },
          "execution_count": 29
        }
      ]
    },
    {
      "metadata": {
        "id": "_jnuyPT9uwt8",
        "colab_type": "text"
      },
      "cell_type": "markdown",
      "source": [
        "として求まる．\n",
        "行列$A$の要素は"
      ]
    },
    {
      "metadata": {
        "id": "3x8USEcQutT3",
        "colab_type": "code",
        "colab": {
          "base_uri": "https://localhost:8080/",
          "height": 34
        },
        "outputId": "b54bc20f-5033-428b-ebf4-4d05651af9d1"
      },
      "cell_type": "code",
      "source": [
        "A[0,0]"
      ],
      "execution_count": 30,
      "outputs": [
        {
          "output_type": "execute_result",
          "data": {
            "text/plain": [
              "1"
            ]
          },
          "metadata": {
            "tags": []
          },
          "execution_count": 30
        }
      ]
    },
    {
      "metadata": {
        "id": "8dvGHk8Gu0MP",
        "colab_type": "code",
        "colab": {
          "base_uri": "https://localhost:8080/",
          "height": 34
        },
        "outputId": "d297091d-9d24-4fa5-87ff-5f6d86c3bb25"
      },
      "cell_type": "code",
      "source": [
        "A[1,0]"
      ],
      "execution_count": 34,
      "outputs": [
        {
          "output_type": "execute_result",
          "data": {
            "text/plain": [
              "3"
            ]
          },
          "metadata": {
            "tags": []
          },
          "execution_count": 34
        }
      ]
    },
    {
      "metadata": {
        "id": "012G6byTu8w8",
        "colab_type": "text"
      },
      "cell_type": "markdown",
      "source": [
        "などとして求まる．\n",
        "ここで添字が $0$ はじまりであることに注意．\n",
        "線形代数の教科書では\n",
        "  $ \n",
        "A =\n",
        "\\begin{pmatrix}\n",
        "a_{11} & a_{12} \\\\\n",
        "a_{21} & a_{22}\n",
        "\\end{pmatrix}\n",
        "$\n",
        "としていると思うが，\n",
        "ここでは\n",
        "  $ \n",
        "A =\n",
        "\\begin{pmatrix}\n",
        "a_{00} & a_{01} \\\\\n",
        "a_{10} & a_{11}\n",
        "\\end{pmatrix}\n",
        "$\n",
        "である．\n",
        "もちろん"
      ]
    },
    {
      "metadata": {
        "id": "CXouyWcZu1mM",
        "colab_type": "code",
        "colab": {}
      },
      "cell_type": "code",
      "source": [
        "A[1,1]=7"
      ],
      "execution_count": 0,
      "outputs": []
    },
    {
      "metadata": {
        "id": "0nP3L8hJvDxJ",
        "colab_type": "code",
        "colab": {
          "base_uri": "https://localhost:8080/",
          "height": 51
        },
        "outputId": "d61f9002-d7bd-47d7-d9e1-25c8112e355c"
      },
      "cell_type": "code",
      "source": [
        "A"
      ],
      "execution_count": 31,
      "outputs": [
        {
          "output_type": "execute_result",
          "data": {
            "text/plain": [
              "array([[1, 2],\n",
              "       [3, 4]])"
            ]
          },
          "metadata": {
            "tags": []
          },
          "execution_count": 31
        }
      ]
    },
    {
      "metadata": {
        "id": "WFknTnmxvHXQ",
        "colab_type": "text"
      },
      "cell_type": "markdown",
      "source": [
        "直接要素に値を代入できる．"
      ]
    },
    {
      "metadata": {
        "id": "hnj2B0bJvE82",
        "colab_type": "code",
        "colab": {
          "base_uri": "https://localhost:8080/",
          "height": 34
        },
        "outputId": "8cd703c6-89c3-46ec-c384-4766b92c735b"
      },
      "cell_type": "code",
      "source": [
        "A[:,1]"
      ],
      "execution_count": 32,
      "outputs": [
        {
          "output_type": "execute_result",
          "data": {
            "text/plain": [
              "array([2, 4])"
            ]
          },
          "metadata": {
            "tags": []
          },
          "execution_count": 32
        }
      ]
    },
    {
      "metadata": {
        "id": "h7sdZ-KWvKaG",
        "colab_type": "code",
        "colab": {
          "base_uri": "https://localhost:8080/",
          "height": 34
        },
        "outputId": "444d1077-bd2b-48cc-c36a-b03b0bafea2a"
      },
      "cell_type": "code",
      "source": [
        "A[0,:]"
      ],
      "execution_count": 33,
      "outputs": [
        {
          "output_type": "execute_result",
          "data": {
            "text/plain": [
              "array([1, 2])"
            ]
          },
          "metadata": {
            "tags": []
          },
          "execution_count": 33
        }
      ]
    },
    {
      "metadata": {
        "id": "E-Bdhe7OvR0a",
        "colab_type": "text"
      },
      "cell_type": "markdown",
      "source": [
        "行列の要素どうしの掛け算は，"
      ]
    },
    {
      "metadata": {
        "id": "GizzYnkpxLWh",
        "colab_type": "code",
        "colab": {}
      },
      "cell_type": "code",
      "source": [
        "A = np.array([[1, 2], [3,4]])"
      ],
      "execution_count": 0,
      "outputs": []
    },
    {
      "metadata": {
        "id": "8oM3wxdtvNZf",
        "colab_type": "code",
        "colab": {
          "base_uri": "https://localhost:8080/",
          "height": 51
        },
        "outputId": "022a2b25-b943-4743-8b31-4f97e5d1ad9e"
      },
      "cell_type": "code",
      "source": [
        "A"
      ],
      "execution_count": 35,
      "outputs": [
        {
          "output_type": "execute_result",
          "data": {
            "text/plain": [
              "array([[1, 2],\n",
              "       [3, 4]])"
            ]
          },
          "metadata": {
            "tags": []
          },
          "execution_count": 35
        }
      ]
    },
    {
      "metadata": {
        "id": "MlGdjdKlvTt7",
        "colab_type": "code",
        "colab": {}
      },
      "cell_type": "code",
      "source": [
        "B = np.array([[1.0, 1.0/2.0], [1.0/3.0,1.0/4.0]])"
      ],
      "execution_count": 0,
      "outputs": []
    },
    {
      "metadata": {
        "id": "XWUXq2E7vV74",
        "colab_type": "code",
        "colab": {
          "base_uri": "https://localhost:8080/",
          "height": 51
        },
        "outputId": "6791790f-0108-4984-e05c-62f5569532e0"
      },
      "cell_type": "code",
      "source": [
        "B"
      ],
      "execution_count": 37,
      "outputs": [
        {
          "output_type": "execute_result",
          "data": {
            "text/plain": [
              "array([[1.        , 0.5       ],\n",
              "       [0.33333333, 0.25      ]])"
            ]
          },
          "metadata": {
            "tags": []
          },
          "execution_count": 37
        }
      ]
    },
    {
      "metadata": {
        "id": "iSWUM_lbvylG",
        "colab_type": "text"
      },
      "cell_type": "markdown",
      "source": [
        "のとき"
      ]
    },
    {
      "metadata": {
        "id": "OUQkrfDfvW3F",
        "colab_type": "code",
        "colab": {
          "base_uri": "https://localhost:8080/",
          "height": 51
        },
        "outputId": "3061b0e0-1766-4629-a834-7e685b2274e1"
      },
      "cell_type": "code",
      "source": [
        "A*B"
      ],
      "execution_count": 38,
      "outputs": [
        {
          "output_type": "execute_result",
          "data": {
            "text/plain": [
              "array([[1., 1.],\n",
              "       [1., 1.]])"
            ]
          },
          "metadata": {
            "tags": []
          },
          "execution_count": 38
        }
      ]
    },
    {
      "metadata": {
        "id": "4W5f5wJgxWAq",
        "colab_type": "text"
      },
      "cell_type": "markdown",
      "source": [
        "で求めることができる．\n",
        "\n",
        "各要素が等差数列にしたがうベクトルを作りたいときは，\n",
        "以下のようにする．これは，グラフを描くときなどに軸を離散化する必要があるのでよく使う．\n",
        "10から30（未満）までを5おきにであれば"
      ]
    },
    {
      "metadata": {
        "id": "Yvz-SLVUxWv_",
        "colab_type": "code",
        "colab": {
          "base_uri": "https://localhost:8080/",
          "height": 34
        },
        "outputId": "81abf92d-35e5-465c-d62d-3311379837eb"
      },
      "cell_type": "code",
      "source": [
        "np.arange(10,30,5)"
      ],
      "execution_count": 40,
      "outputs": [
        {
          "output_type": "execute_result",
          "data": {
            "text/plain": [
              "array([10, 15, 20, 25])"
            ]
          },
          "metadata": {
            "tags": []
          },
          "execution_count": 40
        }
      ]
    },
    {
      "metadata": {
        "id": "r-D1TsyAxYxU",
        "colab_type": "code",
        "colab": {}
      },
      "cell_type": "code",
      "source": [
        ""
      ],
      "execution_count": 0,
      "outputs": []
    },
    {
      "metadata": {
        "id": "dqK7zsDMxeAV",
        "colab_type": "text"
      },
      "cell_type": "markdown",
      "source": [
        "3番目の引数を省略すれば，公差は1になる．"
      ]
    },
    {
      "metadata": {
        "id": "FumrcOqixesm",
        "colab_type": "code",
        "colab": {
          "base_uri": "https://localhost:8080/",
          "height": 51
        },
        "outputId": "25270352-2b6b-496e-9480-d3fde4a8d2a5"
      },
      "cell_type": "code",
      "source": [
        "np.arange(10,30)"
      ],
      "execution_count": 63,
      "outputs": [
        {
          "output_type": "execute_result",
          "data": {
            "text/plain": [
              "array([10, 11, 12, 13, 14, 15, 16, 17, 18, 19, 20, 21, 22, 23, 24, 25, 26,\n",
              "       27, 28, 29])"
            ]
          },
          "metadata": {
            "tags": []
          },
          "execution_count": 63
        }
      ]
    },
    {
      "metadata": {
        "id": "JGxBNOoIxlAW",
        "colab_type": "text"
      },
      "cell_type": "markdown",
      "source": [
        "arrage とは別に linspace も使える．"
      ]
    },
    {
      "metadata": {
        "id": "eGPTvPioxhIW",
        "colab_type": "code",
        "colab": {
          "base_uri": "https://localhost:8080/",
          "height": 85
        },
        "outputId": "2f215648-fc6d-4e83-a0de-683e462f22e8"
      },
      "cell_type": "code",
      "source": [
        "np.linspace(10,30,20)"
      ],
      "execution_count": 64,
      "outputs": [
        {
          "output_type": "execute_result",
          "data": {
            "text/plain": [
              "array([10.        , 11.05263158, 12.10526316, 13.15789474, 14.21052632,\n",
              "       15.26315789, 16.31578947, 17.36842105, 18.42105263, 19.47368421,\n",
              "       20.52631579, 21.57894737, 22.63157895, 23.68421053, 24.73684211,\n",
              "       25.78947368, 26.84210526, 27.89473684, 28.94736842, 30.        ])"
            ]
          },
          "metadata": {
            "tags": []
          },
          "execution_count": 64
        }
      ]
    },
    {
      "metadata": {
        "id": "UbsAhqVSxtKm",
        "colab_type": "text"
      },
      "cell_type": "markdown",
      "source": [
        "これは\n",
        "等間隔で20個（3番目の引数）を返してくる．\n",
        "こんどは最後の30が含まれている．"
      ]
    },
    {
      "metadata": {
        "id": "qBFuJgF3xw_d",
        "colab_type": "text"
      },
      "cell_type": "markdown",
      "source": [
        "**数値演算関数**"
      ]
    },
    {
      "metadata": {
        "id": "qHplvRBQx2uE",
        "colab_type": "text"
      },
      "cell_type": "markdown",
      "source": [
        "Python には数値演算のための関数が多く組み込まれている．\n",
        " 例えば"
      ]
    },
    {
      "metadata": {
        "id": "ydVmZqqgxqK-",
        "colab_type": "code",
        "colab": {
          "base_uri": "https://localhost:8080/",
          "height": 34
        },
        "outputId": "56805dbc-8167-4511-caeb-019c05682b4c"
      },
      "cell_type": "code",
      "source": [
        "np.cos(1/3.0*np.pi)"
      ],
      "execution_count": 42,
      "outputs": [
        {
          "output_type": "execute_result",
          "data": {
            "text/plain": [
              "0.5000000000000001"
            ]
          },
          "metadata": {
            "tags": []
          },
          "execution_count": 42
        }
      ]
    },
    {
      "metadata": {
        "id": "E__o5EpZyBIo",
        "colab_type": "text"
      },
      "cell_type": "markdown",
      "source": [
        "$ \\cos \\left ( \\dfrac{2}{3} \\pi \\right )  = \\dfrac{1}{2}$なので，\n",
        "ちょっと不安になるが，まあよい．\n",
        "引数がベクトルや行列であれば，\n",
        "要素すべての値を計算してくれる．"
      ]
    },
    {
      "metadata": {
        "id": "BxO_TM7Cx7JL",
        "colab_type": "code",
        "colab": {
          "base_uri": "https://localhost:8080/",
          "height": 34
        },
        "outputId": "95cb4f9e-b3b4-4185-aaab-430a7db87a1a"
      },
      "cell_type": "code",
      "source": [
        "np.sin([1,2,3,4])"
      ],
      "execution_count": 44,
      "outputs": [
        {
          "output_type": "execute_result",
          "data": {
            "text/plain": [
              "array([ 0.84147098,  0.90929743,  0.14112001, -0.7568025 ])"
            ]
          },
          "metadata": {
            "tags": []
          },
          "execution_count": 44
        }
      ]
    },
    {
      "metadata": {
        "id": "ipQprthwyDhC",
        "colab_type": "code",
        "colab": {
          "base_uri": "https://localhost:8080/",
          "height": 34
        },
        "outputId": "cd3b60b3-4991-4356-96a2-fcb93d4d9e0a"
      },
      "cell_type": "code",
      "source": [
        "np.sin(b)"
      ],
      "execution_count": 43,
      "outputs": [
        {
          "output_type": "execute_result",
          "data": {
            "text/plain": [
              "array([-0.95892427, -0.2794155 ])"
            ]
          },
          "metadata": {
            "tags": []
          },
          "execution_count": 43
        }
      ]
    },
    {
      "metadata": {
        "id": "bWXSBQ0MyINv",
        "colab_type": "text"
      },
      "cell_type": "markdown",
      "source": [
        "$\\sin, \\cos$ のほかにも，"
      ]
    },
    {
      "metadata": {
        "id": "oOFdMSTZyFQY",
        "colab_type": "code",
        "colab": {
          "base_uri": "https://localhost:8080/",
          "height": 34
        },
        "outputId": "29c44e32-58a4-4eeb-9270-0fa418a2cd35"
      },
      "cell_type": "code",
      "source": [
        "np.exp(1)"
      ],
      "execution_count": 45,
      "outputs": [
        {
          "output_type": "execute_result",
          "data": {
            "text/plain": [
              "2.718281828459045"
            ]
          },
          "metadata": {
            "tags": []
          },
          "execution_count": 45
        }
      ]
    },
    {
      "metadata": {
        "id": "pZYaCC_EyKvb",
        "colab_type": "code",
        "colab": {
          "base_uri": "https://localhost:8080/",
          "height": 34
        },
        "outputId": "e4bddc12-305f-4303-9fe1-0809064841a9"
      },
      "cell_type": "code",
      "source": [
        "np.log(10)"
      ],
      "execution_count": 46,
      "outputs": [
        {
          "output_type": "execute_result",
          "data": {
            "text/plain": [
              "2.302585092994046"
            ]
          },
          "metadata": {
            "tags": []
          },
          "execution_count": 46
        }
      ]
    },
    {
      "metadata": {
        "id": "s9o4M698yMf1",
        "colab_type": "code",
        "colab": {
          "base_uri": "https://localhost:8080/",
          "height": 34
        },
        "outputId": "c883e87d-35d3-4ca4-efd8-a8120cad6110"
      },
      "cell_type": "code",
      "source": [
        "np.e"
      ],
      "execution_count": 47,
      "outputs": [
        {
          "output_type": "execute_result",
          "data": {
            "text/plain": [
              "2.718281828459045"
            ]
          },
          "metadata": {
            "tags": []
          },
          "execution_count": 47
        }
      ]
    },
    {
      "metadata": {
        "id": "CcuO5LHHyOc5",
        "colab_type": "code",
        "colab": {
          "base_uri": "https://localhost:8080/",
          "height": 34
        },
        "outputId": "2c38c199-1b13-44f7-e1de-d6c29da3ca49"
      },
      "cell_type": "code",
      "source": [
        "np.sqrt(3)"
      ],
      "execution_count": 48,
      "outputs": [
        {
          "output_type": "execute_result",
          "data": {
            "text/plain": [
              "1.7320508075688772"
            ]
          },
          "metadata": {
            "tags": []
          },
          "execution_count": 48
        }
      ]
    },
    {
      "metadata": {
        "id": "sfQa9nzpqsOJ",
        "colab_type": "code",
        "colab": {}
      },
      "cell_type": "code",
      "source": [
        ""
      ],
      "execution_count": 0,
      "outputs": []
    },
    {
      "metadata": {
        "id": "AkramUcdyVcn",
        "colab_type": "text"
      },
      "cell_type": "markdown",
      "source": [
        "など，だいたいのものはある．\n",
        "各関数の説明は help(np.sqrt) "
      ]
    },
    {
      "metadata": {
        "id": "aY8Scu_6ydxe",
        "colab_type": "text"
      },
      "cell_type": "markdown",
      "source": [
        "などとして参照できる．\n",
        "ベクトル要素の最大値，最小値，和，積は"
      ]
    },
    {
      "metadata": {
        "id": "TesoXrvzyX2N",
        "colab_type": "code",
        "colab": {}
      },
      "cell_type": "code",
      "source": [
        "x = np.array([1, 3, 5, 2, 3])\n"
      ],
      "execution_count": 0,
      "outputs": []
    },
    {
      "metadata": {
        "id": "zGdbfFJNyg3C",
        "colab_type": "code",
        "colab": {
          "base_uri": "https://localhost:8080/",
          "height": 34
        },
        "outputId": "ce9c89c4-4304-498c-b4e8-3c7bdc1799ca"
      },
      "cell_type": "code",
      "source": [
        "x"
      ],
      "execution_count": 53,
      "outputs": [
        {
          "output_type": "execute_result",
          "data": {
            "text/plain": [
              "array([1, 3, 5, 2, 3])"
            ]
          },
          "metadata": {
            "tags": []
          },
          "execution_count": 53
        }
      ]
    },
    {
      "metadata": {
        "id": "OPRsOdxf0HS3",
        "colab_type": "text"
      },
      "cell_type": "markdown",
      "source": [
        ""
      ]
    },
    {
      "metadata": {
        "id": "8XV47g9UyigK",
        "colab_type": "code",
        "colab": {
          "base_uri": "https://localhost:8080/",
          "height": 34
        },
        "outputId": "eb7d745e-a55f-4b4c-faa6-a098d4662a33"
      },
      "cell_type": "code",
      "source": [
        "x.max()"
      ],
      "execution_count": 54,
      "outputs": [
        {
          "output_type": "execute_result",
          "data": {
            "text/plain": [
              "5"
            ]
          },
          "metadata": {
            "tags": []
          },
          "execution_count": 54
        }
      ]
    },
    {
      "metadata": {
        "id": "de1z9Tb_yk-D",
        "colab_type": "code",
        "colab": {
          "base_uri": "https://localhost:8080/",
          "height": 34
        },
        "outputId": "dca63a3d-159a-46f3-d9b2-82c624f7d5bf"
      },
      "cell_type": "code",
      "source": [
        "x.min()"
      ],
      "execution_count": 55,
      "outputs": [
        {
          "output_type": "execute_result",
          "data": {
            "text/plain": [
              "1"
            ]
          },
          "metadata": {
            "tags": []
          },
          "execution_count": 55
        }
      ]
    },
    {
      "metadata": {
        "id": "FJbS3E_8ym4v",
        "colab_type": "code",
        "colab": {
          "base_uri": "https://localhost:8080/",
          "height": 34
        },
        "outputId": "00b4e3be-6908-494c-8fc2-e88821dbd106"
      },
      "cell_type": "code",
      "source": [
        "x.sum()"
      ],
      "execution_count": 56,
      "outputs": [
        {
          "output_type": "execute_result",
          "data": {
            "text/plain": [
              "14"
            ]
          },
          "metadata": {
            "tags": []
          },
          "execution_count": 56
        }
      ]
    },
    {
      "metadata": {
        "id": "G7OS6BZEyok6",
        "colab_type": "code",
        "colab": {
          "base_uri": "https://localhost:8080/",
          "height": 34
        },
        "outputId": "329e3a21-15ce-406f-fe09-832de90ba0ba"
      },
      "cell_type": "code",
      "source": [
        "x.prod()"
      ],
      "execution_count": 57,
      "outputs": [
        {
          "output_type": "execute_result",
          "data": {
            "text/plain": [
              "90"
            ]
          },
          "metadata": {
            "tags": []
          },
          "execution_count": 57
        }
      ]
    },
    {
      "metadata": {
        "id": "SbbRw6Nqyssb",
        "colab_type": "text"
      },
      "cell_type": "markdown",
      "source": [
        "として取得できる．\n",
        "ほかにも"
      ]
    },
    {
      "metadata": {
        "id": "cFlirD8TyqfH",
        "colab_type": "code",
        "colab": {
          "base_uri": "https://localhost:8080/",
          "height": 34
        },
        "outputId": "ff2a03f6-094b-485c-e2d2-30078c9c9f14"
      },
      "cell_type": "code",
      "source": [
        "np.amax(x)"
      ],
      "execution_count": 58,
      "outputs": [
        {
          "output_type": "execute_result",
          "data": {
            "text/plain": [
              "5"
            ]
          },
          "metadata": {
            "tags": []
          },
          "execution_count": 58
        }
      ]
    },
    {
      "metadata": {
        "id": "sOnxavvay1Vo",
        "colab_type": "text"
      },
      "cell_type": "markdown",
      "source": [
        "というのがある．\n",
        "要素の中にひとつでもNaNが含まれている場合，\n",
        "NaNが最大値として返される．\n",
        "返して欲しくない場合には、nanmaxを使う．\n"
      ]
    },
    {
      "metadata": {
        "id": "YYzr17dCrdGn",
        "colab_type": "text"
      },
      "cell_type": "markdown",
      "source": [
        "# 行列式，逆行列"
      ]
    },
    {
      "metadata": {
        "id": "pQEHVjDasVh_",
        "colab_type": "code",
        "colab": {}
      },
      "cell_type": "code",
      "source": [
        "A = np.array([[1, 2], [3,4]])"
      ],
      "execution_count": 0,
      "outputs": []
    },
    {
      "metadata": {
        "id": "vSw39zNJrfiw",
        "colab_type": "code",
        "colab": {
          "base_uri": "https://localhost:8080/",
          "height": 51
        },
        "outputId": "000850a9-f427-4dca-a549-a35f5e8ffe66"
      },
      "cell_type": "code",
      "source": [
        "A"
      ],
      "execution_count": 59,
      "outputs": [
        {
          "output_type": "execute_result",
          "data": {
            "text/plain": [
              "array([[1, 2],\n",
              "       [3, 4]])"
            ]
          },
          "metadata": {
            "tags": []
          },
          "execution_count": 59
        }
      ]
    },
    {
      "metadata": {
        "id": "qaniMiwlrjkd",
        "colab_type": "code",
        "colab": {
          "base_uri": "https://localhost:8080/",
          "height": 34
        },
        "outputId": "80dfd3fe-81be-4d4c-92d5-4af142ee4c5d"
      },
      "cell_type": "code",
      "source": [
        "np.linalg.det(A)"
      ],
      "execution_count": 60,
      "outputs": [
        {
          "output_type": "execute_result",
          "data": {
            "text/plain": [
              "-2.0000000000000004"
            ]
          },
          "metadata": {
            "tags": []
          },
          "execution_count": 60
        }
      ]
    },
    {
      "metadata": {
        "id": "MeSzeQcyrl9w",
        "colab_type": "code",
        "colab": {}
      },
      "cell_type": "code",
      "source": [
        "B=np.linalg.inv(A)"
      ],
      "execution_count": 0,
      "outputs": []
    },
    {
      "metadata": {
        "id": "4r4XHEVtrnya",
        "colab_type": "code",
        "colab": {
          "base_uri": "https://localhost:8080/",
          "height": 51
        },
        "outputId": "639311e7-3854-4672-9593-57e4bb8e26f8"
      },
      "cell_type": "code",
      "source": [
        "B"
      ],
      "execution_count": 62,
      "outputs": [
        {
          "output_type": "execute_result",
          "data": {
            "text/plain": [
              "array([[-2. ,  1. ],\n",
              "       [ 1.5, -0.5]])"
            ]
          },
          "metadata": {
            "tags": []
          },
          "execution_count": 62
        }
      ]
    },
    {
      "metadata": {
        "id": "zACNFbFLrpaS",
        "colab_type": "code",
        "colab": {
          "base_uri": "https://localhost:8080/",
          "height": 51
        },
        "outputId": "8648f9ca-962b-45e8-dffd-e3f6493d22b8"
      },
      "cell_type": "code",
      "source": [
        "A.dot(B)"
      ],
      "execution_count": 63,
      "outputs": [
        {
          "output_type": "execute_result",
          "data": {
            "text/plain": [
              "array([[1.0000000e+00, 0.0000000e+00],\n",
              "       [8.8817842e-16, 1.0000000e+00]])"
            ]
          },
          "metadata": {
            "tags": []
          },
          "execution_count": 63
        }
      ]
    },
    {
      "metadata": {
        "id": "OnVhKnLarrXL",
        "colab_type": "code",
        "colab": {
          "base_uri": "https://localhost:8080/",
          "height": 51
        },
        "outputId": "176adf7f-2896-485c-f038-c34b1a9eb693"
      },
      "cell_type": "code",
      "source": [
        "B.dot(A)"
      ],
      "execution_count": 64,
      "outputs": [
        {
          "output_type": "execute_result",
          "data": {
            "text/plain": [
              "array([[1.00000000e+00, 0.00000000e+00],\n",
              "       [1.11022302e-16, 1.00000000e+00]])"
            ]
          },
          "metadata": {
            "tags": []
          },
          "execution_count": 64
        }
      ]
    },
    {
      "metadata": {
        "id": "KeZdA1FbrvwQ",
        "colab_type": "text"
      },
      "cell_type": "markdown",
      "source": [
        "なんとも簡単に求めることができる．\n",
        "次に，\n",
        "行列$A$の固有値，\n",
        "固有ベクトルを求めてみよう．"
      ]
    },
    {
      "metadata": {
        "id": "VqtoF6lprtSK",
        "colab_type": "code",
        "colab": {
          "base_uri": "https://localhost:8080/",
          "height": 51
        },
        "outputId": "8346c2c5-f540-4ec5-eab0-0d3393a3f6e4"
      },
      "cell_type": "code",
      "source": [
        "np.linalg.eig(A)"
      ],
      "execution_count": 65,
      "outputs": [
        {
          "output_type": "execute_result",
          "data": {
            "text/plain": [
              "(array([-0.37228132,  5.37228132]), array([[-0.82456484, -0.41597356],\n",
              "        [ 0.56576746, -0.90937671]]))"
            ]
          },
          "metadata": {
            "tags": []
          },
          "execution_count": 65
        }
      ]
    },
    {
      "metadata": {
        "id": "RSw6gQxrr15N",
        "colab_type": "text"
      },
      "cell_type": "markdown",
      "source": [
        "固有値が，[-0.37228132,  5.37228132] の2つで，\n",
        "それぞれの固有値に対応する固有ベクトルが，\n",
        "[-0.82456484, -0.41597356],\n",
        "[ 0.56576746, -0.90937671]\n",
        "ということである．\n",
        "ベクトル要素の平均，\n",
        "標準偏差，分散は\n"
      ]
    },
    {
      "metadata": {
        "id": "Yf4_hedYrzUL",
        "colab_type": "code",
        "colab": {
          "base_uri": "https://localhost:8080/",
          "height": 34
        },
        "outputId": "6e1a06e9-67b2-4658-96ad-0f1bf3a9225b"
      },
      "cell_type": "code",
      "source": [
        "x"
      ],
      "execution_count": 66,
      "outputs": [
        {
          "output_type": "execute_result",
          "data": {
            "text/plain": [
              "array([1, 3, 5, 2, 3])"
            ]
          },
          "metadata": {
            "tags": []
          },
          "execution_count": 66
        }
      ]
    },
    {
      "metadata": {
        "id": "liNvnrDHr6Xy",
        "colab_type": "code",
        "colab": {
          "base_uri": "https://localhost:8080/",
          "height": 34
        },
        "outputId": "5cf8cd2f-094d-46e7-fd1a-5c2f64ac61c5"
      },
      "cell_type": "code",
      "source": [
        "np.sum(x)/5.0"
      ],
      "execution_count": 68,
      "outputs": [
        {
          "output_type": "execute_result",
          "data": {
            "text/plain": [
              "2.8"
            ]
          },
          "metadata": {
            "tags": []
          },
          "execution_count": 68
        }
      ]
    },
    {
      "metadata": {
        "id": "a5lDltmZr8sz",
        "colab_type": "code",
        "colab": {
          "base_uri": "https://localhost:8080/",
          "height": 34
        },
        "outputId": "465bd5ae-cb1b-4864-a1ea-1614b038ed25"
      },
      "cell_type": "code",
      "source": [
        "np.mean(x)"
      ],
      "execution_count": 69,
      "outputs": [
        {
          "output_type": "execute_result",
          "data": {
            "text/plain": [
              "2.8"
            ]
          },
          "metadata": {
            "tags": []
          },
          "execution_count": 69
        }
      ]
    },
    {
      "metadata": {
        "id": "aWRnNpnUsD2Z",
        "colab_type": "code",
        "colab": {
          "base_uri": "https://localhost:8080/",
          "height": 34
        },
        "outputId": "38a235a0-d212-4103-9976-fd62add55109"
      },
      "cell_type": "code",
      "source": [
        "np.std(x)"
      ],
      "execution_count": 70,
      "outputs": [
        {
          "output_type": "execute_result",
          "data": {
            "text/plain": [
              "1.32664991614216"
            ]
          },
          "metadata": {
            "tags": []
          },
          "execution_count": 70
        }
      ]
    },
    {
      "metadata": {
        "id": "ELQESUa0sGX9",
        "colab_type": "code",
        "colab": {
          "base_uri": "https://localhost:8080/",
          "height": 34
        },
        "outputId": "9b490d88-83bd-4659-cbd2-d0e793ae41dc"
      },
      "cell_type": "code",
      "source": [
        "np.var(x)"
      ],
      "execution_count": 71,
      "outputs": [
        {
          "output_type": "execute_result",
          "data": {
            "text/plain": [
              "1.7600000000000005"
            ]
          },
          "metadata": {
            "tags": []
          },
          "execution_count": 71
        }
      ]
    },
    {
      "metadata": {
        "id": "wEN7vd60sLOq",
        "colab_type": "text"
      },
      "cell_type": "markdown",
      "source": [
        "で得られる．"
      ]
    },
    {
      "metadata": {
        "id": "CUU2l4blsmGd",
        "colab_type": "text"
      },
      "cell_type": "markdown",
      "source": [
        "# 乱数"
      ]
    },
    {
      "metadata": {
        "id": "QXh9uPhpsqCg",
        "colab_type": "text"
      },
      "cell_type": "markdown",
      "source": [
        "まずは，\n",
        "（0から1までの間の）一様乱数．"
      ]
    },
    {
      "metadata": {
        "id": "wBFRulqtsu1B",
        "colab_type": "code",
        "colab": {}
      },
      "cell_type": "code",
      "source": [
        "x = np.random.rand()"
      ],
      "execution_count": 0,
      "outputs": []
    },
    {
      "metadata": {
        "id": "SOVjnyB2sxdM",
        "colab_type": "code",
        "colab": {
          "base_uri": "https://localhost:8080/",
          "height": 34
        },
        "outputId": "4537f9b9-6786-4d1e-db59-72293e7602e0"
      },
      "cell_type": "code",
      "source": [
        "x"
      ],
      "execution_count": 74,
      "outputs": [
        {
          "output_type": "execute_result",
          "data": {
            "text/plain": [
              "0.38328001340150475"
            ]
          },
          "metadata": {
            "tags": []
          },
          "execution_count": 74
        }
      ]
    },
    {
      "metadata": {
        "id": "9eu8qUc6s1BT",
        "colab_type": "code",
        "colab": {}
      },
      "cell_type": "code",
      "source": [
        "x = np.random.rand(10)"
      ],
      "execution_count": 0,
      "outputs": []
    },
    {
      "metadata": {
        "id": "wPfU7FoGsIUs",
        "colab_type": "code",
        "colab": {
          "base_uri": "https://localhost:8080/",
          "height": 51
        },
        "outputId": "3e832d33-ccd1-45b9-a1ee-3d14e5f61fc8"
      },
      "cell_type": "code",
      "source": [
        "x"
      ],
      "execution_count": 76,
      "outputs": [
        {
          "output_type": "execute_result",
          "data": {
            "text/plain": [
              "array([0.76781604, 0.94140258, 0.95837903, 0.51064647, 0.07656296,\n",
              "       0.40648587, 0.3237011 , 0.78950004, 0.88033736, 0.40858164])"
            ]
          },
          "metadata": {
            "tags": []
          },
          "execution_count": 76
        }
      ]
    },
    {
      "metadata": {
        "id": "kvaJGXNYs4TS",
        "colab_type": "code",
        "colab": {}
      },
      "cell_type": "code",
      "source": [
        "x = np.random.rand(2,2)"
      ],
      "execution_count": 0,
      "outputs": []
    },
    {
      "metadata": {
        "id": "yttVCd-ls7AK",
        "colab_type": "code",
        "colab": {
          "base_uri": "https://localhost:8080/",
          "height": 51
        },
        "outputId": "e26e4fd5-bc65-4ef2-e72c-ffa898f96717"
      },
      "cell_type": "code",
      "source": [
        "x"
      ],
      "execution_count": 78,
      "outputs": [
        {
          "output_type": "execute_result",
          "data": {
            "text/plain": [
              "array([[0.37393515, 0.90196603],\n",
              "       [0.54905288, 0.26685862]])"
            ]
          },
          "metadata": {
            "tags": []
          },
          "execution_count": 78
        }
      ]
    },
    {
      "metadata": {
        "id": "srXxqwZLs9hz",
        "colab_type": "text"
      },
      "cell_type": "markdown",
      "source": [
        "次に，\n",
        "平均0，分散1の\n",
        "標準正規分布にしたがう乱数は，"
      ]
    },
    {
      "metadata": {
        "id": "Bp2HN35Ys74g",
        "colab_type": "code",
        "colab": {}
      },
      "cell_type": "code",
      "source": [
        "x = np.random.randn()"
      ],
      "execution_count": 0,
      "outputs": []
    },
    {
      "metadata": {
        "id": "RcmyKc_4tCCT",
        "colab_type": "code",
        "colab": {
          "base_uri": "https://localhost:8080/",
          "height": 34
        },
        "outputId": "78ba8f7d-1307-46f7-e8fe-0e35092cea49"
      },
      "cell_type": "code",
      "source": [
        "x"
      ],
      "execution_count": 80,
      "outputs": [
        {
          "output_type": "execute_result",
          "data": {
            "text/plain": [
              "-0.4579400930993294"
            ]
          },
          "metadata": {
            "tags": []
          },
          "execution_count": 80
        }
      ]
    },
    {
      "metadata": {
        "id": "-0HQrUx5tC3o",
        "colab_type": "code",
        "colab": {}
      },
      "cell_type": "code",
      "source": [
        "x = np.random.randn(10)"
      ],
      "execution_count": 0,
      "outputs": []
    },
    {
      "metadata": {
        "id": "z9AfeOC3tFli",
        "colab_type": "code",
        "colab": {
          "base_uri": "https://localhost:8080/",
          "height": 51
        },
        "outputId": "87ada94e-c908-4f93-f333-f0a350e8a8b1"
      },
      "cell_type": "code",
      "source": [
        "x"
      ],
      "execution_count": 91,
      "outputs": [
        {
          "output_type": "execute_result",
          "data": {
            "text/plain": [
              "array([ 1.10046612,  0.28100085, -0.25589479,  0.54442562, -0.64640395,\n",
              "       -0.60587779,  0.42424875,  0.13608466,  0.29675323, -0.28183892])"
            ]
          },
          "metadata": {
            "tags": []
          },
          "execution_count": 91
        }
      ]
    },
    {
      "metadata": {
        "id": "cl1z7Z2ytMeG",
        "colab_type": "text"
      },
      "cell_type": "markdown",
      "source": [
        "として生成できる．\n",
        "乱数の種（seed）は"
      ]
    },
    {
      "metadata": {
        "id": "MJyBGIhttGXx",
        "colab_type": "code",
        "colab": {}
      },
      "cell_type": "code",
      "source": [
        "np.random.seed(20180822)"
      ],
      "execution_count": 0,
      "outputs": []
    },
    {
      "metadata": {
        "id": "pLiaqzA6tTDr",
        "colab_type": "text"
      },
      "cell_type": "markdown",
      "source": [
        "# 数の並べかえ"
      ]
    },
    {
      "metadata": {
        "id": "_H3vPsMntP2f",
        "colab_type": "code",
        "colab": {}
      },
      "cell_type": "code",
      "source": [
        "x = np.random.randn(10)"
      ],
      "execution_count": 0,
      "outputs": []
    },
    {
      "metadata": {
        "id": "Rfnz0HA0tXFL",
        "colab_type": "code",
        "colab": {
          "base_uri": "https://localhost:8080/",
          "height": 51
        },
        "outputId": "650f02d7-e283-419e-a962-a27c245e24f6"
      },
      "cell_type": "code",
      "source": [
        "x"
      ],
      "execution_count": 85,
      "outputs": [
        {
          "output_type": "execute_result",
          "data": {
            "text/plain": [
              "array([ 1.10046612,  0.28100085, -0.25589479,  0.54442562, -0.64640395,\n",
              "       -0.60587779,  0.42424875,  0.13608466,  0.29675323, -0.28183892])"
            ]
          },
          "metadata": {
            "tags": []
          },
          "execution_count": 85
        }
      ]
    },
    {
      "metadata": {
        "id": "PrJ2dfJatY2c",
        "colab_type": "code",
        "colab": {
          "base_uri": "https://localhost:8080/",
          "height": 51
        },
        "outputId": "a2b691c6-ba1d-4cd4-d9d7-9a097db6274b"
      },
      "cell_type": "code",
      "source": [
        "np.sort(x)"
      ],
      "execution_count": 86,
      "outputs": [
        {
          "output_type": "execute_result",
          "data": {
            "text/plain": [
              "array([-0.64640395, -0.60587779, -0.28183892, -0.25589479,  0.13608466,\n",
              "        0.28100085,  0.29675323,  0.42424875,  0.54442562,  1.10046612])"
            ]
          },
          "metadata": {
            "tags": []
          },
          "execution_count": 86
        }
      ]
    },
    {
      "metadata": {
        "id": "-Yw2DVU-tayD",
        "colab_type": "code",
        "colab": {
          "base_uri": "https://localhost:8080/",
          "height": 34
        },
        "outputId": "ca1b3cc9-f425-424c-ee8d-336d9cfef054"
      },
      "cell_type": "code",
      "source": [
        "np.argsort(x)"
      ],
      "execution_count": 87,
      "outputs": [
        {
          "output_type": "execute_result",
          "data": {
            "text/plain": [
              "array([4, 5, 9, 2, 7, 1, 8, 6, 3, 0])"
            ]
          },
          "metadata": {
            "tags": []
          },
          "execution_count": 87
        }
      ]
    },
    {
      "metadata": {
        "id": "CayK5y3Xtgii",
        "colab_type": "text"
      },
      "cell_type": "markdown",
      "source": [
        "# グラフ描画関数"
      ]
    },
    {
      "metadata": {
        "id": "A95zcPuvtkUu",
        "colab_type": "text"
      },
      "cell_type": "markdown",
      "source": [
        "Python の matplotlib には，\n",
        " グラフ作成のための関数が多数準備されている．\n",
        "まず，matplotlib.pyplot を plt で呼び出せるようにしておく．"
      ]
    },
    {
      "metadata": {
        "id": "3oz7gsV9tcpA",
        "colab_type": "code",
        "colab": {}
      },
      "cell_type": "code",
      "source": [
        "import matplotlib.pyplot as plt"
      ],
      "execution_count": 0,
      "outputs": []
    },
    {
      "metadata": {
        "id": "QoAFNe22ttwN",
        "colab_type": "text"
      },
      "cell_type": "markdown",
      "source": [
        "まずは，\n",
        "$ y = \\sin x $ のグラフから．"
      ]
    },
    {
      "metadata": {
        "id": "vEwUJep7tm3D",
        "colab_type": "code",
        "colab": {}
      },
      "cell_type": "code",
      "source": [
        "x = np.arange(-2, 2, 0.1)"
      ],
      "execution_count": 0,
      "outputs": []
    },
    {
      "metadata": {
        "id": "gmpcmTu-uEd0",
        "colab_type": "code",
        "colab": {}
      },
      "cell_type": "code",
      "source": [
        "y=np.sin(x)"
      ],
      "execution_count": 0,
      "outputs": []
    },
    {
      "metadata": {
        "id": "KDpi5ib5uGsF",
        "colab_type": "code",
        "colab": {
          "base_uri": "https://localhost:8080/",
          "height": 364
        },
        "outputId": "5405491a-b077-4913-f7aa-26ca055d79d0"
      },
      "cell_type": "code",
      "source": [
        "plt.plot(x, y)"
      ],
      "execution_count": 94,
      "outputs": [
        {
          "output_type": "execute_result",
          "data": {
            "text/plain": [
              "[<matplotlib.lines.Line2D at 0x7fd2a150bf90>]"
            ]
          },
          "metadata": {
            "tags": []
          },
          "execution_count": 94
        },
        {
          "output_type": "display_data",
          "data": {
            "image/png": "[encoded data removed]",
            "text/plain": [
              "<matplotlib.figure.Figure at 0x7fd2a1df71d0>"
            ]
          },
          "metadata": {
            "tags": []
          }
        }
      ]
    },
    {
      "metadata": {
        "id": "srkTIsDKuNwE",
        "colab_type": "text"
      },
      "cell_type": "markdown",
      "source": [
        "本来は plt.show() を入力しなければ，グラフは描かれない"
      ]
    },
    {
      "metadata": {
        "id": "bxyxfTXvuWqb",
        "colab_type": "text"
      },
      "cell_type": "markdown",
      "source": [
        "ヒストグラムは"
      ]
    },
    {
      "metadata": {
        "id": "1GIfFOoUuIeh",
        "colab_type": "code",
        "colab": {}
      },
      "cell_type": "code",
      "source": [
        "x = np.random.randn(1000)  # 標準正規分布にしたがう乱数を1000個生成"
      ],
      "execution_count": 0,
      "outputs": []
    },
    {
      "metadata": {
        "id": "9ksqYMmduY_u",
        "colab_type": "code",
        "colab": {
          "base_uri": "https://localhost:8080/",
          "height": 636
        },
        "outputId": "ed9f8d72-9bfc-4831-cca2-d10b5cb1b876"
      },
      "cell_type": "code",
      "source": [
        "plt.hist(x, bins=20)  #棒の数が20本のヒストグラムを作成"
      ],
      "execution_count": 99,
      "outputs": [
        {
          "output_type": "execute_result",
          "data": {
            "text/plain": [
              "(array([  1.,   0.,   3.,   2.,   6.,   9.,  14.,  22.,  20.,  36.,  51.,\n",
              "         85.,  98., 155., 181., 243., 278., 321., 334., 439., 488., 538.,\n",
              "        556., 587., 630., 623., 615., 553., 523., 512., 414., 337., 288.,\n",
              "        245., 217., 143., 114.,  88.,  70.,  57.,  32.,  28.,  12.,  16.,\n",
              "          8.,   3.,   0.,   1.,   2.,   2.]),\n",
              " array([-3.7583722 , -3.60652634, -3.45468048, -3.30283461, -3.15098875,\n",
              "        -2.99914289, -2.84729703, -2.69545117, -2.54360531, -2.39175945,\n",
              "        -2.23991359, -2.08806773, -1.93622186, -1.784376  , -1.63253014,\n",
              "        -1.48068428, -1.32883842, -1.17699256, -1.0251467 , -0.87330084,\n",
              "        -0.72145497, -0.56960911, -0.41776325, -0.26591739, -0.11407153,\n",
              "         0.03777433,  0.18962019,  0.34146605,  0.49331192,  0.64515778,\n",
              "         0.79700364,  0.9488495 ,  1.10069536,  1.25254122,  1.40438708,\n",
              "         1.55623294,  1.70807881,  1.85992467,  2.01177053,  2.16361639,\n",
              "         2.31546225,  2.46730811,  2.61915397,  2.77099983,  2.92284569,\n",
              "         3.07469156,  3.22653742,  3.37838328,  3.53022914,  3.682075  ,\n",
              "         3.83392086]),\n",
              " <a list of 50 Patch objects>)"
            ]
          },
          "metadata": {
            "tags": []
          },
          "execution_count": 99
        },
        {
          "output_type": "display_data",
          "data": {
            "image/png": "[encoded data removed]",
            "text/plain": [
              "<matplotlib.figure.Figure at 0x7fd29ebdae90>"
            ]
          },
          "metadata": {
            "tags": []
          }
        }
      ]
    },
    {
      "metadata": {
        "id": "OUhYGRB0uqx2",
        "colab_type": "text"
      },
      "cell_type": "markdown",
      "source": [
        "で描ける．\n",
        "\n",
        "3次元的なグラフ．"
      ]
    },
    {
      "metadata": {
        "id": "Lpn0qeFiubiF",
        "colab_type": "code",
        "colab": {
          "base_uri": "https://localhost:8080/",
          "height": 215
        },
        "outputId": "70911d0d-71ee-43f5-d89d-33f7b8c8a2e7"
      },
      "cell_type": "code",
      "source": [
        "# -*- coding: utf-8 -*-\n",
        "import numpy as np\n",
        "import matplotlib.pyplot as plt\n",
        "\n",
        "def g2_pdf(x,y,mu,Sigma):\n",
        "    a = 1.0/(2.0*np.pi*np.sqrt(np.linalg.det(Sigma)))\n",
        "    v = np.array([[x],[y]]) - mu\n",
        "    retvar = a*np.exp(-1.0/2.0*(v.T).dot( (np.linalg.inv(Sigma)).dot(v) ))\n",
        "    return retvar\n",
        "\n",
        "mu = np.array([[0],[0]])\n",
        "Sigma = np.array([[2,1],[1,2]]) # 分散・共分散行列\n",
        "\n",
        "x = np.arange(-3,3,0.1)\n",
        "y = np.arange(-3,3,0.1)\n",
        "nx = len(x)\n",
        "ny = len(y)\n",
        "z = np.zeros((nx,ny))\n",
        "for i0 in range(nx):\n",
        "    for i1 in range(ny):\n",
        "        z[i1,i0] = g2_pdf(x[i0],y[i1], mu, Sigma)\n",
        "\n",
        "plt.figure(figsize=(3.5,3))\n",
        "#plt.gray()\n",
        "plt.jet()\n",
        "plt.pcolor(z)\n",
        "#plt.contour(z)\n",
        "plt.colorbar()\n",
        "plt.show()"
      ],
      "execution_count": 100,
      "outputs": [
        {
          "output_type": "display_data",
          "data": {
            "image/png": "[encoded data removed]",
            "text/plain": [
              "<matplotlib.figure.Figure at 0x7fd29ea27650>"
            ]
          },
          "metadata": {
            "tags": []
          }
        }
      ]
    },
    {
      "metadata": {
        "id": "DS5kODeRu4aJ",
        "colab_type": "text"
      },
      "cell_type": "markdown",
      "source": [
        "これは2次元だった．こちらが3次元．"
      ]
    },
    {
      "metadata": {
        "id": "ZIXhT1Jbu7Lw",
        "colab_type": "code",
        "colab": {
          "base_uri": "https://localhost:8080/",
          "height": 221
        },
        "outputId": "2dfe167a-32f5-42c7-b81d-24b78f3892db"
      },
      "cell_type": "code",
      "source": [
        "# -*- coding: utf-8 -*-\n",
        "import numpy as np\n",
        "import matplotlib.pyplot as plt\n",
        "from mpl_toolkits.mplot3d import Axes3D\n",
        "\n",
        "def g2_pdf(x,y,mu,Sigma):\n",
        "    a = 1.0/(2.0*np.pi*np.sqrt(np.linalg.det(Sigma)))\n",
        "    v = np.array([[x],[y]]) - mu\n",
        "    retvar = a*np.exp(-1.0/2.0*(v.T).dot( (np.linalg.inv(Sigma)).dot(v) ))\n",
        "    return retvar\n",
        "\n",
        "mu = np.array([[0],[0]])\n",
        "Sigma = np.array([[2,1],[1,2]]) # 分散・共分散行列\n",
        "\n",
        "x = np.arange(-5,5,0.2)\n",
        "y = np.arange(-5,5,0.2)\n",
        "nx = len(x)\n",
        "ny = len(y)\n",
        "z = np.zeros((nx,ny))\n",
        "for i0 in range(nx):\n",
        "    for i1 in range(ny):\n",
        "        z[i1,i0] = g2_pdf(x[i0],y[i1], mu, Sigma)\n",
        "\n",
        "xx,yy = np.meshgrid(x,y)\n",
        "plt.figure(figsize=(5, 3.5))\n",
        "ax = plt.subplot(1,1,1, projection='3d')\n",
        "ax.plot_surface(xx,yy,z,rstride=1,cstride=1,alpha=0.1,color='blue',edgecolor='black')\n",
        "# ax.set_zticks((0,0.08))\n",
        "ax.view_init(30,-130)\n",
        "plt.savefig('fig301.eps') \n",
        "plt.show()"
      ],
      "execution_count": 141,
      "outputs": [
        {
          "output_type": "display_data",
          "data": {
            "image/png": "[encoded data removed]",
            "text/plain": [
              "<matplotlib.figure.Figure at 0x7fd29e268cd0>"
            ]
          },
          "metadata": {
            "tags": []
          }
        }
      ]
    },
    {
      "metadata": {
        "id": "fd8LiFCk3LIm",
        "colab_type": "code",
        "colab": {
          "base_uri": "https://localhost:8080/",
          "height": 85
        },
        "outputId": "16825c01-8c58-4567-c983-1162f5c3ff07"
      },
      "cell_type": "code",
      "source": [
        "!ls -l"
      ],
      "execution_count": 142,
      "outputs": [
        {
          "output_type": "stream",
          "text": [
            "total 14532\n",
            "-rw-r--r-- 1 root root 14336256 Oct  6 00:36 digit.mat\n",
            "-rw-r--r-- 1 root root   534264 Oct  6 01:02 fig301.eps\n",
            "drwxr-xr-x 2 root root     4096 Sep 28 23:32 sample_data\n"
          ],
          "name": "stdout"
        }
      ]
    },
    {
      "metadata": {
        "id": "KlPwMJU04Ndq",
        "colab_type": "code",
        "colab": {}
      },
      "cell_type": "code",
      "source": [
        "files.download(\"fig301.eps\") "
      ],
      "execution_count": 0,
      "outputs": []
    },
    {
      "metadata": {
        "id": "MALnRpE1vOsC",
        "colab_type": "text"
      },
      "cell_type": "markdown",
      "source": [
        "# 補足"
      ]
    },
    {
      "metadata": {
        "id": "lC1hGAJovcBZ",
        "colab_type": "text"
      },
      "cell_type": "markdown",
      "source": [
        "ライブラリ numpy を使うには"
      ]
    },
    {
      "metadata": {
        "id": "4zYNumKlvbu8",
        "colab_type": "text"
      },
      "cell_type": "markdown",
      "source": [
        ""
      ]
    },
    {
      "metadata": {
        "id": "ZpX6b-ggvQFe",
        "colab_type": "code",
        "colab": {}
      },
      "cell_type": "code",
      "source": [
        "import numpy as np"
      ],
      "execution_count": 0,
      "outputs": []
    },
    {
      "metadata": {
        "id": "enNAXNDmvhAW",
        "colab_type": "text"
      },
      "cell_type": "markdown",
      "source": [
        "などと書いてきた．"
      ]
    },
    {
      "metadata": {
        "id": "lH5cjHnMvfaj",
        "colab_type": "code",
        "colab": {}
      },
      "cell_type": "code",
      "source": [
        "import numpy"
      ],
      "execution_count": 0,
      "outputs": []
    },
    {
      "metadata": {
        "id": "QQm8iyIWvmct",
        "colab_type": "text"
      },
      "cell_type": "markdown",
      "source": [
        "と書いた場合は，\n",
        "np と省略して書いてきた部分を，\n",
        "numpy と書く必要がある．\n",
        "ライブラリは，他によくつかうものとして，\n",
        "math がある．\n",
        "numpy にも math にも，cos() という関数（メソッド名）がある．\n",
        "どちらを使ってもよいだろう．"
      ]
    },
    {
      "metadata": {
        "id": "YSSBRWw4vkMm",
        "colab_type": "code",
        "colab": {}
      },
      "cell_type": "code",
      "source": [
        "from numpy import sin, cos"
      ],
      "execution_count": 0,
      "outputs": []
    },
    {
      "metadata": {
        "id": "mDnFUGi2vpp1",
        "colab_type": "code",
        "colab": {}
      },
      "cell_type": "code",
      "source": [
        "from numpy import *"
      ],
      "execution_count": 0,
      "outputs": []
    },
    {
      "metadata": {
        "id": "jfK1WKC7v5R6",
        "colab_type": "text"
      },
      "cell_type": "markdown",
      "source": [
        "と書くと，\n",
        "numpy のすべての関数が使えるようになる．"
      ]
    },
    {
      "metadata": {
        "id": "0qilrBYPwDDw",
        "colab_type": "text"
      },
      "cell_type": "markdown",
      "source": [
        "# digit.mat"
      ]
    },
    {
      "metadata": {
        "id": "teQXeCGAyJL6",
        "colab_type": "text"
      },
      "cell_type": "markdown",
      "source": [
        "digit.mat ファイルを google colaboratory の中で使えるようにアップロードしておく．digit.mat には 16 x 16 ピクセルのモノクロの手書き数字画像が 1文字あたり500枚用意されている．\n"
      ]
    },
    {
      "metadata": {
        "id": "YtUSLJRsv3DO",
        "colab_type": "code",
        "colab": {
          "resources": {
            "http://localhost:8080/nbextensions/google.colab/files.js": {
              "data": "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",
              "ok": true,
              "headers": [
                [
                  "content-type",
                  "application/javascript"
                ]
              ],
              "status": 200,
              "status_text": ""
            }
          },
          "base_uri": "https://localhost:8080/",
          "height": 69
        },
        "outputId": "8fbd62f5-319a-4c16-9518-a33e6b9dcbd8"
      },
      "cell_type": "code",
      "source": [
        "from google.colab import files\n",
        "f= files.upload()"
      ],
      "execution_count": 110,
      "outputs": [
        {
          "output_type": "display_data",
          "data": {
            "text/plain": [
              "<IPython.core.display.HTML object>"
            ],
            "text/html": [
              "\n",
              "     <input type=\"file\" id=\"files-dff1b3ec-0563-4ba1-9cf1-bc042aff1488\" name=\"files[]\" multiple disabled />\n",
              "     <output id=\"result-dff1b3ec-0563-4ba1-9cf1-bc042aff1488\">\n",
              "      Upload widget is only available when the cell has been executed in the\n",
              "      current browser session. Please rerun this cell to enable.\n",
              "      </output>\n",
              "      <script src=\"/nbextensions/google.colab/files.js\"></script> "
            ]
          },
          "metadata": {
            "tags": []
          }
        },
        {
          "output_type": "stream",
          "text": [
            "Saving digit.mat to digit.mat\n"
          ],
          "name": "stdout"
        }
      ]
    },
    {
      "metadata": {
        "id": "DQMoCu21yTpp",
        "colab_type": "code",
        "colab": {
          "base_uri": "https://localhost:8080/",
          "height": 34
        },
        "outputId": "9339dedc-7937-4f6c-814b-b9aa546a34e1"
      },
      "cell_type": "code",
      "source": [
        "import scipy.io\n",
        "data = scipy.io.loadmat(\"digit.mat\")\n",
        "type(data)"
      ],
      "execution_count": 111,
      "outputs": [
        {
          "output_type": "execute_result",
          "data": {
            "text/plain": [
              "dict"
            ]
          },
          "metadata": {
            "tags": []
          },
          "execution_count": 111
        }
      ]
    },
    {
      "metadata": {
        "id": "m6e5iZb_yrDI",
        "colab_type": "code",
        "colab": {
          "base_uri": "https://localhost:8080/",
          "height": 34
        },
        "outputId": "631d8dfc-b561-4a4f-e046-469bae185517"
      },
      "cell_type": "code",
      "source": [
        "type(data[\"X\"])"
      ],
      "execution_count": 112,
      "outputs": [
        {
          "output_type": "execute_result",
          "data": {
            "text/plain": [
              "numpy.ndarray"
            ]
          },
          "metadata": {
            "tags": []
          },
          "execution_count": 112
        }
      ]
    },
    {
      "metadata": {
        "id": "8ZbCMXEizc-1",
        "colab_type": "code",
        "colab": {}
      },
      "cell_type": "code",
      "source": [
        "x = data[\"X\"]"
      ],
      "execution_count": 0,
      "outputs": []
    },
    {
      "metadata": {
        "id": "f9b3bPr2zf8j",
        "colab_type": "code",
        "colab": {
          "base_uri": "https://localhost:8080/",
          "height": 34
        },
        "outputId": "edea7667-dea1-4e60-8e51-e2a39d695486"
      },
      "cell_type": "code",
      "source": [
        "type(x)"
      ],
      "execution_count": 114,
      "outputs": [
        {
          "output_type": "execute_result",
          "data": {
            "text/plain": [
              "numpy.ndarray"
            ]
          },
          "metadata": {
            "tags": []
          },
          "execution_count": 114
        }
      ]
    },
    {
      "metadata": {
        "id": "X3bJlKUmzhsh",
        "colab_type": "code",
        "colab": {
          "base_uri": "https://localhost:8080/",
          "height": 34
        },
        "outputId": "2a8eedf5-8ab9-434a-bbcc-ffc075fb608f"
      },
      "cell_type": "code",
      "source": [
        "x.shape"
      ],
      "execution_count": 115,
      "outputs": [
        {
          "output_type": "execute_result",
          "data": {
            "text/plain": [
              "(256, 500, 10)"
            ]
          },
          "metadata": {
            "tags": []
          },
          "execution_count": 115
        }
      ]
    },
    {
      "metadata": {
        "id": "KcsoNa2FzmJX",
        "colab_type": "text"
      },
      "cell_type": "markdown",
      "source": [
        "これを (5000, 16,16) につくりかえたい．うゎ．\n",
        "ちいさいので練習してみる．"
      ]
    },
    {
      "metadata": {
        "id": "t6k0KX_Iz6Vl",
        "colab_type": "text"
      },
      "cell_type": "markdown",
      "source": [
        "# sklearn を使えるようにするためには．"
      ]
    },
    {
      "metadata": {
        "id": "_xfohotZzjnc",
        "colab_type": "code",
        "colab": {
          "base_uri": "https://localhost:8080/",
          "height": 34
        },
        "outputId": "c2f84507-592f-4392-bb14-65966fd7cfce"
      },
      "cell_type": "code",
      "source": [
        "from sklearn import datasets\n",
        "import numpy as np\n",
        "import matplotlib.pyplot as plt\n",
        "digits = datasets.load_digits()\n",
        "X = digits.data\n",
        "y = digits.target\n",
        "images = digits.images\n",
        "type(digits)"
      ],
      "execution_count": 117,
      "outputs": [
        {
          "output_type": "execute_result",
          "data": {
            "text/plain": [
              "sklearn.utils.Bunch"
            ]
          },
          "metadata": {
            "tags": []
          },
          "execution_count": 117
        }
      ]
    },
    {
      "metadata": {
        "id": "HwPAWWoK0Byq",
        "colab_type": "code",
        "colab": {
          "base_uri": "https://localhost:8080/",
          "height": 34
        },
        "outputId": "06516830-0c20-4f0c-e23e-9ca0d9033a42"
      },
      "cell_type": "code",
      "source": [
        "type(images)"
      ],
      "execution_count": 118,
      "outputs": [
        {
          "output_type": "execute_result",
          "data": {
            "text/plain": [
              "numpy.ndarray"
            ]
          },
          "metadata": {
            "tags": []
          },
          "execution_count": 118
        }
      ]
    },
    {
      "metadata": {
        "id": "zjg1xdsk0Shq",
        "colab_type": "code",
        "colab": {
          "base_uri": "https://localhost:8080/",
          "height": 34
        },
        "outputId": "bb907368-3052-4dc1-d580-fe1d30f50d79"
      },
      "cell_type": "code",
      "source": [
        "images.shape"
      ],
      "execution_count": 119,
      "outputs": [
        {
          "output_type": "execute_result",
          "data": {
            "text/plain": [
              "(1797, 8, 8)"
            ]
          },
          "metadata": {
            "tags": []
          },
          "execution_count": 119
        }
      ]
    },
    {
      "metadata": {
        "id": "BjlZef4a0T6c",
        "colab_type": "code",
        "colab": {
          "base_uri": "https://localhost:8080/",
          "height": 34
        },
        "outputId": "46e6829c-df9e-4921-978c-b97c28562f55"
      },
      "cell_type": "code",
      "source": [
        "type(X)"
      ],
      "execution_count": 120,
      "outputs": [
        {
          "output_type": "execute_result",
          "data": {
            "text/plain": [
              "numpy.ndarray"
            ]
          },
          "metadata": {
            "tags": []
          },
          "execution_count": 120
        }
      ]
    },
    {
      "metadata": {
        "id": "fqEZGFtl0VtN",
        "colab_type": "code",
        "colab": {
          "base_uri": "https://localhost:8080/",
          "height": 34
        },
        "outputId": "1491c20b-8a11-4e38-bc00-caf483be48a8"
      },
      "cell_type": "code",
      "source": [
        "type(y)"
      ],
      "execution_count": 121,
      "outputs": [
        {
          "output_type": "execute_result",
          "data": {
            "text/plain": [
              "numpy.ndarray"
            ]
          },
          "metadata": {
            "tags": []
          },
          "execution_count": 121
        }
      ]
    },
    {
      "metadata": {
        "id": "x_Yr25b50XF-",
        "colab_type": "code",
        "colab": {
          "base_uri": "https://localhost:8080/",
          "height": 34
        },
        "outputId": "504bd0ac-8d8a-4524-e202-ea13c1ee45e0"
      },
      "cell_type": "code",
      "source": [
        "X.shape"
      ],
      "execution_count": 122,
      "outputs": [
        {
          "output_type": "execute_result",
          "data": {
            "text/plain": [
              "(1797, 64)"
            ]
          },
          "metadata": {
            "tags": []
          },
          "execution_count": 122
        }
      ]
    },
    {
      "metadata": {
        "id": "Cdzsl5vU09Z9",
        "colab_type": "text"
      },
      "cell_type": "markdown",
      "source": [
        ""
      ]
    },
    {
      "metadata": {
        "id": "VsWmOP2U0aSr",
        "colab_type": "code",
        "colab": {
          "base_uri": "https://localhost:8080/",
          "height": 34
        },
        "outputId": "71291de4-3bce-49c7-b0a9-8a92615953fb"
      },
      "cell_type": "code",
      "source": [
        "y.shape"
      ],
      "execution_count": 123,
      "outputs": [
        {
          "output_type": "execute_result",
          "data": {
            "text/plain": [
              "(1797,)"
            ]
          },
          "metadata": {
            "tags": []
          },
          "execution_count": 123
        }
      ]
    },
    {
      "metadata": {
        "id": "9FcwWr_u0cVq",
        "colab_type": "code",
        "colab": {
          "base_uri": "https://localhost:8080/",
          "height": 136
        },
        "outputId": "141628e6-4370-4b02-f61b-2ae7aa635618"
      },
      "cell_type": "code",
      "source": [
        "X"
      ],
      "execution_count": 124,
      "outputs": [
        {
          "output_type": "execute_result",
          "data": {
            "text/plain": [
              "array([[ 0.,  0.,  5., ...,  0.,  0.,  0.],\n",
              "       [ 0.,  0.,  0., ..., 10.,  0.,  0.],\n",
              "       [ 0.,  0.,  0., ..., 16.,  9.,  0.],\n",
              "       ...,\n",
              "       [ 0.,  0.,  1., ...,  6.,  0.,  0.],\n",
              "       [ 0.,  0.,  2., ..., 12.,  0.,  0.],\n",
              "       [ 0.,  0., 10., ..., 12.,  1.,  0.]])"
            ]
          },
          "metadata": {
            "tags": []
          },
          "execution_count": 124
        }
      ]
    },
    {
      "metadata": {
        "id": "i2dKC3X00f7v",
        "colab_type": "code",
        "colab": {
          "base_uri": "https://localhost:8080/",
          "height": 34
        },
        "outputId": "19359fe8-f84e-4162-dd11-f4949f868525"
      },
      "cell_type": "code",
      "source": [
        "y"
      ],
      "execution_count": 125,
      "outputs": [
        {
          "output_type": "execute_result",
          "data": {
            "text/plain": [
              "array([0, 1, 2, ..., 8, 9, 8])"
            ]
          },
          "metadata": {
            "tags": []
          },
          "execution_count": 125
        }
      ]
    },
    {
      "metadata": {
        "id": "7osGPdfP0hAF",
        "colab_type": "code",
        "colab": {}
      },
      "cell_type": "code",
      "source": [
        ""
      ],
      "execution_count": 0,
      "outputs": []
    }
  ]
}